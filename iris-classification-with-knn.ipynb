{
 "cells": [
  {
   "cell_type": "code",
   "execution_count": 1,
   "id": "6f023128",
   "metadata": {
    "execution": {
     "iopub.execute_input": "2023-12-30T17:34:01.582134Z",
     "iopub.status.busy": "2023-12-30T17:34:01.581310Z",
     "iopub.status.idle": "2023-12-30T17:34:04.047004Z",
     "shell.execute_reply": "2023-12-30T17:34:04.045688Z"
    },
    "papermill": {
     "duration": 2.475602,
     "end_time": "2023-12-30T17:34:04.049770",
     "exception": false,
     "start_time": "2023-12-30T17:34:01.574168",
     "status": "completed"
    },
    "tags": []
   },
   "outputs": [
    {
     "name": "stdout",
     "output_type": "stream",
     "text": [
      "Setup Complete\n"
     ]
    }
   ],
   "source": [
    "import pandas as pd \n",
    "import numpy as np \n",
    "from sklearn import metrics\n",
    "from sklearn.neighbors import KNeighborsClassifier\n",
    "from sklearn.datasets import load_iris\n",
    "from sklearn.model_selection import train_test_split\n",
    "import matplotlib.pyplot as plt \n",
    "from sklearn.metrics import confusion_matrix\n",
    "print(\"Setup Complete\")"
   ]
  },
  {
   "cell_type": "markdown",
   "id": "c8a6ba07",
   "metadata": {
    "papermill": {
     "duration": 0.004107,
     "end_time": "2023-12-30T17:34:04.058710",
     "exception": false,
     "start_time": "2023-12-30T17:34:04.054603",
     "status": "completed"
    },
    "tags": []
   },
   "source": [
    "# Iris Classification with kNearestNeighbors Classification\n",
    "This notebook is an example classification using the iris dataset from sklearn. In this notebook we will cover:\n",
    "* What is kNN?\n",
    "* How to implement kNN?\n",
    "\n",
    "Here are some links that you might find useful:\n",
    "\n",
    "[https://www.ibm.com/topics/knn#:~:text=The%20k%2Dnearest%20neighbors%20algorithm%2C%20also%20known%20as%20KNN%20or,of%20an%20individual%20data%20point.](http://)\n",
    "\n",
    "[https://en.wikipedia.org/wiki/K-nearest_neighbors_algorithm](http://)\n",
    "\n",
    "[https://towardsdatascience.com/machine-learning-basics-with-the-k-nearest-neighbors-algorithm-6a6e71d01761](http://)"
   ]
  },
  {
   "cell_type": "markdown",
   "id": "cb88b268",
   "metadata": {
    "papermill": {
     "duration": 0.004127,
     "end_time": "2023-12-30T17:34:04.067259",
     "exception": false,
     "start_time": "2023-12-30T17:34:04.063132",
     "status": "completed"
    },
    "tags": []
   },
   "source": [
    "# What is kNN?\n",
    "kNN classification, also known as k Nearest Neighbors classification, is a non-parametric and lazy learning algorithm used for classification tasks. It is a simple and effective machine learning algorithm that works based on the idea that objects or data points that are closer in distance are more likely to belong to the same class.\n",
    "\n",
    "The breakdown of the kNN classification algorithm can be summarized as follows:\n",
    "\n",
    "1. Input data: The first step is to gather and preprocess the input data. This includes collecting labeled training examples, which consist of input feature vectors and their corresponding class labels. It may also involve scaling or normalizing the features to ensure they have similar ranges.\n",
    "\n",
    "2. Distance measurement: Next, a distance metric needs to be selected to measure the similarity between feature vectors. Common distance metrics used in kNN include Euclidean distance, Manhattan distance, or cosine similarity. The choice of distance metric can vary based on the type of data and the problem at hand.\n",
    "\n",
    "3. Choosing the value of k: The parameter k, typically an odd integer, needs to be determined. It represents the number of nearest neighbors to consider when classifying a new data point. The choice of k can impact the algorithm's performance, with smaller values being more sensitive to noise and larger values potentially smoothing out decision boundaries.\n",
    "\n",
    "4. Classification process: Given a new, unlabeled data point, the algorithm proceeds to classify it based on the majority class of its k nearest neighbors. To achieve this, it calculates the distance/similarity between the new point and all labeled training examples. It then selects the k nearest neighbors with the minimum distance and assigns the class label that is most common among them to the new point.\n",
    "\n",
    "5. Voting mechanism: In case of a tie among multiple classes, a voting mechanism can be used. For example, assigning weights to the votes based on the inverse of distances can give more importance to closer neighbors. Different strategies can be employed depending on the domain and problem requirements.\n",
    "\n",
    "6. Output: The final step is to assign a predicted class label to the new data point based on the majority vote. The assigned label can then be used for further analysis or decision-making.\n",
    "\n",
    "It is important to note that while kNN is a relatively simple algorithm, its performance can be affected by factors such as the choice of distance metric, feature selection, scalability with large datasets, and the curse of dimensionality. Therefore, proper evaluation and tuning of parameters are necessary to obtain accurate and reliable results."
   ]
  },
  {
   "cell_type": "markdown",
   "id": "f833a093",
   "metadata": {
    "papermill": {
     "duration": 0.004146,
     "end_time": "2023-12-30T17:34:04.075719",
     "exception": false,
     "start_time": "2023-12-30T17:34:04.071573",
     "status": "completed"
    },
    "tags": []
   },
   "source": [
    "# Implementation of the kNN classification algorithim\n",
    "**Loading Dataset**\n",
    "\n",
    "Lets first load the dataset that we imported above and train the classifier on it."
   ]
  },
  {
   "cell_type": "code",
   "execution_count": 2,
   "id": "278066ad",
   "metadata": {
    "execution": {
     "iopub.execute_input": "2023-12-30T17:34:04.086760Z",
     "iopub.status.busy": "2023-12-30T17:34:04.085781Z",
     "iopub.status.idle": "2023-12-30T17:34:04.113841Z",
     "shell.execute_reply": "2023-12-30T17:34:04.112685Z"
    },
    "papermill": {
     "duration": 0.036305,
     "end_time": "2023-12-30T17:34:04.116435",
     "exception": false,
     "start_time": "2023-12-30T17:34:04.080130",
     "status": "completed"
    },
    "tags": []
   },
   "outputs": [
    {
     "data": {
      "text/html": [
       "<style>#sk-container-id-1 {color: black;background-color: white;}#sk-container-id-1 pre{padding: 0;}#sk-container-id-1 div.sk-toggleable {background-color: white;}#sk-container-id-1 label.sk-toggleable__label {cursor: pointer;display: block;width: 100%;margin-bottom: 0;padding: 0.3em;box-sizing: border-box;text-align: center;}#sk-container-id-1 label.sk-toggleable__label-arrow:before {content: \"▸\";float: left;margin-right: 0.25em;color: #696969;}#sk-container-id-1 label.sk-toggleable__label-arrow:hover:before {color: black;}#sk-container-id-1 div.sk-estimator:hover label.sk-toggleable__label-arrow:before {color: black;}#sk-container-id-1 div.sk-toggleable__content {max-height: 0;max-width: 0;overflow: hidden;text-align: left;background-color: #f0f8ff;}#sk-container-id-1 div.sk-toggleable__content pre {margin: 0.2em;color: black;border-radius: 0.25em;background-color: #f0f8ff;}#sk-container-id-1 input.sk-toggleable__control:checked~div.sk-toggleable__content {max-height: 200px;max-width: 100%;overflow: auto;}#sk-container-id-1 input.sk-toggleable__control:checked~label.sk-toggleable__label-arrow:before {content: \"▾\";}#sk-container-id-1 div.sk-estimator input.sk-toggleable__control:checked~label.sk-toggleable__label {background-color: #d4ebff;}#sk-container-id-1 div.sk-label input.sk-toggleable__control:checked~label.sk-toggleable__label {background-color: #d4ebff;}#sk-container-id-1 input.sk-hidden--visually {border: 0;clip: rect(1px 1px 1px 1px);clip: rect(1px, 1px, 1px, 1px);height: 1px;margin: -1px;overflow: hidden;padding: 0;position: absolute;width: 1px;}#sk-container-id-1 div.sk-estimator {font-family: monospace;background-color: #f0f8ff;border: 1px dotted black;border-radius: 0.25em;box-sizing: border-box;margin-bottom: 0.5em;}#sk-container-id-1 div.sk-estimator:hover {background-color: #d4ebff;}#sk-container-id-1 div.sk-parallel-item::after {content: \"\";width: 100%;border-bottom: 1px solid gray;flex-grow: 1;}#sk-container-id-1 div.sk-label:hover label.sk-toggleable__label {background-color: #d4ebff;}#sk-container-id-1 div.sk-serial::before {content: \"\";position: absolute;border-left: 1px solid gray;box-sizing: border-box;top: 0;bottom: 0;left: 50%;z-index: 0;}#sk-container-id-1 div.sk-serial {display: flex;flex-direction: column;align-items: center;background-color: white;padding-right: 0.2em;padding-left: 0.2em;position: relative;}#sk-container-id-1 div.sk-item {position: relative;z-index: 1;}#sk-container-id-1 div.sk-parallel {display: flex;align-items: stretch;justify-content: center;background-color: white;position: relative;}#sk-container-id-1 div.sk-item::before, #sk-container-id-1 div.sk-parallel-item::before {content: \"\";position: absolute;border-left: 1px solid gray;box-sizing: border-box;top: 0;bottom: 0;left: 50%;z-index: -1;}#sk-container-id-1 div.sk-parallel-item {display: flex;flex-direction: column;z-index: 1;position: relative;background-color: white;}#sk-container-id-1 div.sk-parallel-item:first-child::after {align-self: flex-end;width: 50%;}#sk-container-id-1 div.sk-parallel-item:last-child::after {align-self: flex-start;width: 50%;}#sk-container-id-1 div.sk-parallel-item:only-child::after {width: 0;}#sk-container-id-1 div.sk-dashed-wrapped {border: 1px dashed gray;margin: 0 0.4em 0.5em 0.4em;box-sizing: border-box;padding-bottom: 0.4em;background-color: white;}#sk-container-id-1 div.sk-label label {font-family: monospace;font-weight: bold;display: inline-block;line-height: 1.2em;}#sk-container-id-1 div.sk-label-container {text-align: center;}#sk-container-id-1 div.sk-container {/* jupyter's `normalize.less` sets `[hidden] { display: none; }` but bootstrap.min.css set `[hidden] { display: none !important; }` so we also need the `!important` here to be able to override the default hidden behavior on the sphinx rendered scikit-learn.org. See: https://github.com/scikit-learn/scikit-learn/issues/21755 */display: inline-block !important;position: relative;}#sk-container-id-1 div.sk-text-repr-fallback {display: none;}</style><div id=\"sk-container-id-1\" class=\"sk-top-container\"><div class=\"sk-text-repr-fallback\"><pre>KNeighborsClassifier(n_neighbors=3)</pre><b>In a Jupyter environment, please rerun this cell to show the HTML representation or trust the notebook. <br />On GitHub, the HTML representation is unable to render, please try loading this page with nbviewer.org.</b></div><div class=\"sk-container\" hidden><div class=\"sk-item\"><div class=\"sk-estimator sk-toggleable\"><input class=\"sk-toggleable__control sk-hidden--visually\" id=\"sk-estimator-id-1\" type=\"checkbox\" checked><label for=\"sk-estimator-id-1\" class=\"sk-toggleable__label sk-toggleable__label-arrow\">KNeighborsClassifier</label><div class=\"sk-toggleable__content\"><pre>KNeighborsClassifier(n_neighbors=3)</pre></div></div></div></div></div>"
      ],
      "text/plain": [
       "KNeighborsClassifier(n_neighbors=3)"
      ]
     },
     "execution_count": 2,
     "metadata": {},
     "output_type": "execute_result"
    }
   ],
   "source": [
    "iris = load_iris()\n",
    "k=3\n",
    "knn = KNeighborsClassifier(n_neighbors=k)\n",
    "knn.fit(iris.data, iris.target)"
   ]
  },
  {
   "cell_type": "markdown",
   "id": "4255e8b7",
   "metadata": {
    "papermill": {
     "duration": 0.004333,
     "end_time": "2023-12-30T17:34:04.125458",
     "exception": false,
     "start_time": "2023-12-30T17:34:04.121125",
     "status": "completed"
    },
    "tags": []
   },
   "source": [
    "**Making Groups, making evaluation, and predicting accuracy**\n",
    "\n",
    "Now, lets divide the data into three groups, setosa, versicolor, and virginica. Then, lets define X and y. If you notice, X has 2 lists in a list. This will be useful for the evaluation of the classification. After that, lets print the evaluation score and predict the accuracy."
   ]
  },
  {
   "cell_type": "code",
   "execution_count": 3,
   "id": "cb1f4ea8",
   "metadata": {
    "execution": {
     "iopub.execute_input": "2023-12-30T17:34:04.136490Z",
     "iopub.status.busy": "2023-12-30T17:34:04.136081Z",
     "iopub.status.idle": "2023-12-30T17:34:04.161922Z",
     "shell.execute_reply": "2023-12-30T17:34:04.160701Z"
    },
    "papermill": {
     "duration": 0.034427,
     "end_time": "2023-12-30T17:34:04.164498",
     "exception": false,
     "start_time": "2023-12-30T17:34:04.130071",
     "status": "completed"
    },
    "tags": []
   },
   "outputs": [
    {
     "name": "stdout",
     "output_type": "stream",
     "text": [
      "Varieties with [4, 2, 1.3, 0.4] characteristics: setosa\n",
      "Varieties with [4, 3, 3.2, 2.2] characteristics: versicolor\n",
      "Accuracy(k-0:d): 0.960\n"
     ]
    }
   ],
   "source": [
    "classes = {0:'setosa',1:'versicolor',2:'virginica'}\n",
    "\n",
    "X = [[4,2,1.3,0.4],\n",
    "    [4,3,3.2,2.2]]\n",
    "y = knn.predict(X)\n",
    "\n",
    "print('Varieties with {} characteristics: {}'.format(X[0], classes[y[0]]))\n",
    "print('Varieties with {} characteristics: {}'.format(X[1], classes[y[1]]))\n",
    "\n",
    "y_pred_all = knn.predict(iris.data)\n",
    "scores = metrics.accuracy_score(iris.target,y_pred_all)\n",
    "print('Accuracy(k-0:d): {1:.3f}'.format(k,scores))"
   ]
  },
  {
   "cell_type": "markdown",
   "id": "2b644f5d",
   "metadata": {
    "papermill": {
     "duration": 0.004429,
     "end_time": "2023-12-30T17:34:04.173727",
     "exception": false,
     "start_time": "2023-12-30T17:34:04.169298",
     "status": "completed"
    },
    "tags": []
   },
   "source": [
    "**Analysis**\n",
    "\n",
    "Lets make a graph for conducting an analysis of the kNN algorithim."
   ]
  },
  {
   "cell_type": "code",
   "execution_count": 4,
   "id": "3fd3d7a8",
   "metadata": {
    "execution": {
     "iopub.execute_input": "2023-12-30T17:34:04.184901Z",
     "iopub.status.busy": "2023-12-30T17:34:04.184517Z",
     "iopub.status.idle": "2023-12-30T17:34:04.515678Z",
     "shell.execute_reply": "2023-12-30T17:34:04.514310Z"
    },
    "papermill": {
     "duration": 0.34014,
     "end_time": "2023-12-30T17:34:04.518600",
     "exception": false,
     "start_time": "2023-12-30T17:34:04.178460",
     "status": "completed"
    },
    "tags": []
   },
   "outputs": [
    {
     "data": {
      "text/plain": [
       "(array([[50.,  0.,  0.],\n",
       "        [ 0., 47.,  3.],\n",
       "        [ 0.,  3., 47.]]),\n",
       " array([0.        , 0.66666667, 1.33333333, 2.        ]),\n",
       " array([0.        , 0.66666667, 1.33333333, 2.        ]),\n",
       " <matplotlib.collections.QuadMesh at 0x7e77efea93f0>)"
      ]
     },
     "execution_count": 4,
     "metadata": {},
     "output_type": "execute_result"
    },
    {
     "data": {
      "image/png": "[encoded data removed]",
      "text/plain": [
       "<Figure size 640x480 with 1 Axes>"
      ]
     },
     "metadata": {},
     "output_type": "display_data"
    }
   ],
   "source": [
    "plt.hist2d(iris.target,y_pred_all,bins=(3,3),cmap=plt.cm.jet)"
   ]
  },
  {
   "cell_type": "markdown",
   "id": "3282e69f",
   "metadata": {
    "papermill": {
     "duration": 0.005081,
     "end_time": "2023-12-30T17:34:04.529399",
     "exception": false,
     "start_time": "2023-12-30T17:34:04.524318",
     "status": "completed"
    },
    "tags": []
   },
   "source": [
    "**Confusion Matrix**\n",
    "\n",
    "Lastly, lets make a confusion matrix using the data and the classification predictions."
   ]
  },
  {
   "cell_type": "code",
   "execution_count": 5,
   "id": "1d6879b3",
   "metadata": {
    "execution": {
     "iopub.execute_input": "2023-12-30T17:34:04.542101Z",
     "iopub.status.busy": "2023-12-30T17:34:04.541678Z",
     "iopub.status.idle": "2023-12-30T17:34:04.551139Z",
     "shell.execute_reply": "2023-12-30T17:34:04.549959Z"
    },
    "papermill": {
     "duration": 0.020617,
     "end_time": "2023-12-30T17:34:04.555435",
     "exception": false,
     "start_time": "2023-12-30T17:34:04.534818",
     "status": "completed"
    },
    "tags": []
   },
   "outputs": [
    {
     "data": {
      "text/plain": [
       "array([[50,  0,  0],\n",
       "       [ 0, 47,  3],\n",
       "       [ 0,  3, 47]])"
      ]
     },
     "execution_count": 5,
     "metadata": {},
     "output_type": "execute_result"
    }
   ],
   "source": [
    "conf_mat = confusion_matrix(iris.target,y_pred_all)\n",
    "conf_mat"
   ]
  },
  {
   "cell_type": "markdown",
   "id": "15bf2943",
   "metadata": {
    "papermill": {
     "duration": 0.005642,
     "end_time": "2023-12-30T17:34:04.566698",
     "exception": false,
     "start_time": "2023-12-30T17:34:04.561056",
     "status": "completed"
    },
    "tags": []
   },
   "source": [
    "I hope all of this helped! Feel free to fork and use my code, but just give credit.\n",
    "\n",
    "God bless you."
   ]
  }
 ],
 "metadata": {
  "kaggle": {
   "accelerator": "none",
   "dataSources": [],
   "dockerImageVersionId": 30626,
   "isGpuEnabled": false,
   "isInternetEnabled": true,
   "language": "python",
   "sourceType": "notebook"
  },
  "kernelspec": {
   "display_name": "Python 3",
   "language": "python",
   "name": "python3"
  },
  "language_info": {
   "codemirror_mode": {
    "name": "ipython",
    "version": 3
   },
   "file_extension": ".py",
   "mimetype": "text/x-python",
   "name": "python",
   "nbconvert_exporter": "python",
   "pygments_lexer": "ipython3",
   "version": "3.10.12"
  },
  "papermill": {
   "default_parameters": {},
   "duration": 7.304468,
   "end_time": "2023-12-30T17:34:05.193301",
   "environment_variables": {},
   "exception": null,
   "input_path": "__notebook__.ipynb",
   "output_path": "__notebook__.ipynb",
   "parameters": {},
   "start_time": "2023-12-30T17:33:57.888833",
   "version": "2.4.0"
  }
 },
 "nbformat": 4,
 "nbformat_minor": 5
}
