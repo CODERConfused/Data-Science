{
 "cells": [
  {
   "cell_type": "code",
   "execution_count": 1,
   "id": "aff55203",
   "metadata": {
    "execution": {
     "iopub.execute_input": "2024-01-20T17:25:26.721153Z",
     "iopub.status.busy": "2024-01-20T17:25:26.720695Z",
     "iopub.status.idle": "2024-01-20T17:25:28.648745Z",
     "shell.execute_reply": "2024-01-20T17:25:28.647647Z"
    },
    "papermill": {
     "duration": 1.936027,
     "end_time": "2024-01-20T17:25:28.651142",
     "exception": false,
     "start_time": "2024-01-20T17:25:26.715115",
     "status": "completed"
    },
    "tags": []
   },
   "outputs": [
    {
     "name": "stdout",
     "output_type": "stream",
     "text": [
      "Setup Complete\n"
     ]
    }
   ],
   "source": [
    "from sklearn.datasets import load_iris\n",
    "from sklearn.model_selection import train_test_split\n",
    "from sklearn.preprocessing import StandardScaler\n",
    "from sklearn.naive_bayes import GaussianNB\n",
    "from sklearn.metrics import accuracy_score\n",
    "import matplotlib.pyplot as plt\n",
    "import pandas as  pd\n",
    "import numpy as np\n",
    "from sklearn.metrics import confusion_matrix\n",
    "print(\"Setup Complete\")"
   ]
  },
  {
   "cell_type": "markdown",
   "id": "a4802822",
   "metadata": {
    "papermill": {
     "duration": 0.003185,
     "end_time": "2024-01-20T17:25:28.658107",
     "exception": false,
     "start_time": "2024-01-20T17:25:28.654922",
     "status": "completed"
    },
    "tags": []
   },
   "source": [
    "# Iris Classification using the Gaussian Naive Bayes Algorithm\n",
    "\n",
    "This notebook shows how to use the Gaussian Naive Bayes algorithm for iris classification. In this notebook we will cover:\n",
    "* What is the Naive Bayes Algorithm\n",
    "* How to implement the Gaussian Naive Bayes algorithm."
   ]
  },
  {
   "cell_type": "markdown",
   "id": "664e40b1",
   "metadata": {
    "papermill": {
     "duration": 0.003129,
     "end_time": "2024-01-20T17:25:28.664723",
     "exception": false,
     "start_time": "2024-01-20T17:25:28.661594",
     "status": "completed"
    },
    "tags": []
   },
   "source": [
    "# What is the Naive Bayes Algorithim\n",
    "\n",
    "The Naive Bayes algorithm is a probabilistic classification algorithm that makes predictions based on Bayes' theorem, which describes the probability of an event occurring given prior knowledge. It assumes that the features are independent of each other, a simplifying assumption that might not hold true in reality. Despite this limitation, Naive Bayes is widely used due to its simplicity and efficiency. It is particularly effective in text classification tasks, such as spam filtering or sentiment analysis, where each word in a document is treated as a feature. By calculating the likelihoods of words in different classes and combining them with prior probabilities, Naive Bayes can categorize new documents into predefined classes.\n",
    "\n",
    "There are different variations of the Naive Bayes algorithm, each suited for different types of data. One common type is the Gaussian Naive Bayes, which assumes that the continuous feature values are normally distributed within each class. It calculates the mean and standard deviation of each feature for each class and uses probability density functions to determine the likelihoods. This algorithm is often applied when dealing with continuous or numerical data.\n",
    "\n",
    "Another variant is the Multinomial Naive Bayes, frequently used for text classification, particularly when dealing with word counts or frequency-based features. It handles discrete features by considering the occurrences or frequencies of each feature value within each class. It models the likelihood using the multinomial distribution, which assumes that features follow a multinomial distribution given the class. This algorithm works well with bag-of-words models or word occurrence features.\n",
    "\n",
    "The Bernoulli Naive Bayes algorithm is suitable for binary feature data, where each feature can take on only two values, typically 0 and 1. It assumes that features are conditionally independent given the class and models the likelihood using the Bernoulli distribution. It is often used in text classification tasks, where features represent the presence or absence of words in a document. Bernoulli Naive Bayes is useful when the focus is on the presence or absence of features rather than their frequency or count.\n",
    "\n",
    "In today's example, we will use the Gaussian variation because it best fits the iris dataset."
   ]
  },
  {
   "cell_type": "markdown",
   "id": "14360d02",
   "metadata": {
    "papermill": {
     "duration": 0.003208,
     "end_time": "2024-01-20T17:25:28.671283",
     "exception": false,
     "start_time": "2024-01-20T17:25:28.668075",
     "status": "completed"
    },
    "tags": []
   },
   "source": [
    "# Implementation of the Gaussian Naive Bayes algorithm\n",
    "\n",
    "**Loading the dataset**\n",
    "\n",
    "First, let's load the dataset and define our X and y parameters for the model. Then, let's divide the data into trains and tests using train_test_split."
   ]
  },
  {
   "cell_type": "code",
   "execution_count": 2,
   "id": "4778c322",
   "metadata": {
    "execution": {
     "iopub.execute_input": "2024-01-20T17:25:28.680176Z",
     "iopub.status.busy": "2024-01-20T17:25:28.679406Z",
     "iopub.status.idle": "2024-01-20T17:25:28.696897Z",
     "shell.execute_reply": "2024-01-20T17:25:28.695611Z"
    },
    "papermill": {
     "duration": 0.025245,
     "end_time": "2024-01-20T17:25:28.699842",
     "exception": false,
     "start_time": "2024-01-20T17:25:28.674597",
     "status": "completed"
    },
    "tags": []
   },
   "outputs": [],
   "source": [
    "# Load the iris dataset\n",
    "iris = load_iris()\n",
    "X = iris.data\n",
    "y = iris.target\n",
    "\n",
    "# Split the dataset into train and test sets\n",
    "X_train, X_test, y_train, y_test = train_test_split(X, y, test_size=0.2, random_state=42)"
   ]
  },
  {
   "cell_type": "markdown",
   "id": "7041c6f6",
   "metadata": {
    "papermill": {
     "duration": 0.00356,
     "end_time": "2024-01-20T17:25:28.707417",
     "exception": false,
     "start_time": "2024-01-20T17:25:28.703857",
     "status": "completed"
    },
    "tags": []
   },
   "source": [
    "**Fitting the model**\n",
    "\n",
    "Now, let's use the Standard Scaler and fit the model into the GaussianNB algorithm."
   ]
  },
  {
   "cell_type": "code",
   "execution_count": 3,
   "id": "10ca5cc4",
   "metadata": {
    "execution": {
     "iopub.execute_input": "2024-01-20T17:25:28.718863Z",
     "iopub.status.busy": "2024-01-20T17:25:28.718229Z",
     "iopub.status.idle": "2024-01-20T17:25:28.733081Z",
     "shell.execute_reply": "2024-01-20T17:25:28.732008Z"
    },
    "papermill": {
     "duration": 0.024742,
     "end_time": "2024-01-20T17:25:28.736509",
     "exception": false,
     "start_time": "2024-01-20T17:25:28.711767",
     "status": "completed"
    },
    "tags": []
   },
   "outputs": [
    {
     "data": {
      "text/html": [
       "<style>#sk-container-id-1 {color: black;background-color: white;}#sk-container-id-1 pre{padding: 0;}#sk-container-id-1 div.sk-toggleable {background-color: white;}#sk-container-id-1 label.sk-toggleable__label {cursor: pointer;display: block;width: 100%;margin-bottom: 0;padding: 0.3em;box-sizing: border-box;text-align: center;}#sk-container-id-1 label.sk-toggleable__label-arrow:before {content: \"▸\";float: left;margin-right: 0.25em;color: #696969;}#sk-container-id-1 label.sk-toggleable__label-arrow:hover:before {color: black;}#sk-container-id-1 div.sk-estimator:hover label.sk-toggleable__label-arrow:before {color: black;}#sk-container-id-1 div.sk-toggleable__content {max-height: 0;max-width: 0;overflow: hidden;text-align: left;background-color: #f0f8ff;}#sk-container-id-1 div.sk-toggleable__content pre {margin: 0.2em;color: black;border-radius: 0.25em;background-color: #f0f8ff;}#sk-container-id-1 input.sk-toggleable__control:checked~div.sk-toggleable__content {max-height: 200px;max-width: 100%;overflow: auto;}#sk-container-id-1 input.sk-toggleable__control:checked~label.sk-toggleable__label-arrow:before {content: \"▾\";}#sk-container-id-1 div.sk-estimator input.sk-toggleable__control:checked~label.sk-toggleable__label {background-color: #d4ebff;}#sk-container-id-1 div.sk-label input.sk-toggleable__control:checked~label.sk-toggleable__label {background-color: #d4ebff;}#sk-container-id-1 input.sk-hidden--visually {border: 0;clip: rect(1px 1px 1px 1px);clip: rect(1px, 1px, 1px, 1px);height: 1px;margin: -1px;overflow: hidden;padding: 0;position: absolute;width: 1px;}#sk-container-id-1 div.sk-estimator {font-family: monospace;background-color: #f0f8ff;border: 1px dotted black;border-radius: 0.25em;box-sizing: border-box;margin-bottom: 0.5em;}#sk-container-id-1 div.sk-estimator:hover {background-color: #d4ebff;}#sk-container-id-1 div.sk-parallel-item::after {content: \"\";width: 100%;border-bottom: 1px solid gray;flex-grow: 1;}#sk-container-id-1 div.sk-label:hover label.sk-toggleable__label {background-color: #d4ebff;}#sk-container-id-1 div.sk-serial::before {content: \"\";position: absolute;border-left: 1px solid gray;box-sizing: border-box;top: 0;bottom: 0;left: 50%;z-index: 0;}#sk-container-id-1 div.sk-serial {display: flex;flex-direction: column;align-items: center;background-color: white;padding-right: 0.2em;padding-left: 0.2em;position: relative;}#sk-container-id-1 div.sk-item {position: relative;z-index: 1;}#sk-container-id-1 div.sk-parallel {display: flex;align-items: stretch;justify-content: center;background-color: white;position: relative;}#sk-container-id-1 div.sk-item::before, #sk-container-id-1 div.sk-parallel-item::before {content: \"\";position: absolute;border-left: 1px solid gray;box-sizing: border-box;top: 0;bottom: 0;left: 50%;z-index: -1;}#sk-container-id-1 div.sk-parallel-item {display: flex;flex-direction: column;z-index: 1;position: relative;background-color: white;}#sk-container-id-1 div.sk-parallel-item:first-child::after {align-self: flex-end;width: 50%;}#sk-container-id-1 div.sk-parallel-item:last-child::after {align-self: flex-start;width: 50%;}#sk-container-id-1 div.sk-parallel-item:only-child::after {width: 0;}#sk-container-id-1 div.sk-dashed-wrapped {border: 1px dashed gray;margin: 0 0.4em 0.5em 0.4em;box-sizing: border-box;padding-bottom: 0.4em;background-color: white;}#sk-container-id-1 div.sk-label label {font-family: monospace;font-weight: bold;display: inline-block;line-height: 1.2em;}#sk-container-id-1 div.sk-label-container {text-align: center;}#sk-container-id-1 div.sk-container {/* jupyter's `normalize.less` sets `[hidden] { display: none; }` but bootstrap.min.css set `[hidden] { display: none !important; }` so we also need the `!important` here to be able to override the default hidden behavior on the sphinx rendered scikit-learn.org. See: https://github.com/scikit-learn/scikit-learn/issues/21755 */display: inline-block !important;position: relative;}#sk-container-id-1 div.sk-text-repr-fallback {display: none;}</style><div id=\"sk-container-id-1\" class=\"sk-top-container\"><div class=\"sk-text-repr-fallback\"><pre>GaussianNB()</pre><b>In a Jupyter environment, please rerun this cell to show the HTML representation or trust the notebook. <br />On GitHub, the HTML representation is unable to render, please try loading this page with nbviewer.org.</b></div><div class=\"sk-container\" hidden><div class=\"sk-item\"><div class=\"sk-estimator sk-toggleable\"><input class=\"sk-toggleable__control sk-hidden--visually\" id=\"sk-estimator-id-1\" type=\"checkbox\" checked><label for=\"sk-estimator-id-1\" class=\"sk-toggleable__label sk-toggleable__label-arrow\">GaussianNB</label><div class=\"sk-toggleable__content\"><pre>GaussianNB()</pre></div></div></div></div></div>"
      ],
      "text/plain": [
       "GaussianNB()"
      ]
     },
     "execution_count": 3,
     "metadata": {},
     "output_type": "execute_result"
    }
   ],
   "source": [
    "scaler = StandardScaler()\n",
    "X_train = scaler.fit_transform(X_train)\n",
    "X_test = scaler.transform(X_test)\n",
    "\n",
    "# Create and train the Gaussian Naive Bayes model\n",
    "model = GaussianNB()\n",
    "model.fit(X_train, y_train)"
   ]
  },
  {
   "cell_type": "markdown",
   "id": "97157671",
   "metadata": {
    "papermill": {
     "duration": 0.003926,
     "end_time": "2024-01-20T17:25:28.744819",
     "exception": false,
     "start_time": "2024-01-20T17:25:28.740893",
     "status": "completed"
    },
    "tags": []
   },
   "source": [
    "**Accuracy and Analysis**\n",
    "\n",
    "Finally, let's predict the accuracy."
   ]
  },
  {
   "cell_type": "code",
   "execution_count": 4,
   "id": "13a64e06",
   "metadata": {
    "execution": {
     "iopub.execute_input": "2024-01-20T17:25:28.755162Z",
     "iopub.status.busy": "2024-01-20T17:25:28.754761Z",
     "iopub.status.idle": "2024-01-20T17:25:28.762454Z",
     "shell.execute_reply": "2024-01-20T17:25:28.761623Z"
    },
    "papermill": {
     "duration": 0.01607,
     "end_time": "2024-01-20T17:25:28.765181",
     "exception": false,
     "start_time": "2024-01-20T17:25:28.749111",
     "status": "completed"
    },
    "tags": []
   },
   "outputs": [
    {
     "name": "stdout",
     "output_type": "stream",
     "text": [
      "Accuracy: 1.0\n"
     ]
    }
   ],
   "source": [
    "# Predict the classes for the test set\n",
    "y_pred = model.predict(X_test)\n",
    "\n",
    "# Calculate accuracy\n",
    "accuracy = accuracy_score(y_test, y_pred)\n",
    "print(\"Accuracy:\", accuracy)"
   ]
  },
  {
   "cell_type": "markdown",
   "id": "57e4f3d4",
   "metadata": {
    "papermill": {
     "duration": 0.003511,
     "end_time": "2024-01-20T17:25:28.772946",
     "exception": false,
     "start_time": "2024-01-20T17:25:28.769435",
     "status": "completed"
    },
    "tags": []
   },
   "source": [
    "The accuracy for the kNN model for this same dataset was only 96% while the accuracy here is 100%. So, the Naive Bayes algorithm is much more efficient than the kNN algorithm. Let's take a look at graphed representations of the model."
   ]
  },
  {
   "cell_type": "code",
   "execution_count": 5,
   "id": "2b7e400d",
   "metadata": {
    "execution": {
     "iopub.execute_input": "2024-01-20T17:25:28.783543Z",
     "iopub.status.busy": "2024-01-20T17:25:28.782020Z",
     "iopub.status.idle": "2024-01-20T17:25:29.100007Z",
     "shell.execute_reply": "2024-01-20T17:25:29.098707Z"
    },
    "papermill": {
     "duration": 0.325807,
     "end_time": "2024-01-20T17:25:29.102497",
     "exception": false,
     "start_time": "2024-01-20T17:25:28.776690",
     "status": "completed"
    },
    "tags": []
   },
   "outputs": [
    {
     "data": {
      "image/png": "[encoded data removed]",
      "text/plain": [
       "<Figure size 640x480 with 1 Axes>"
      ]
     },
     "metadata": {},
     "output_type": "display_data"
    }
   ],
   "source": [
    "categories = np.unique(iris.target)\n",
    "bar_width = 0.4\n",
    "plt.bar(categories, np.bincount(iris.target), bar_width, label='iris.target')\n",
    "plt.bar(categories + bar_width, np.bincount(y_pred), bar_width, label='y_pred')\n",
    "plt.xlabel('Categories')\n",
    "plt.ylabel('Counts')\n",
    "plt.title('Bar plot of iris.target vs. y_pred')\n",
    "plt.legend()\n",
    "plt.show()"
   ]
  },
  {
   "cell_type": "code",
   "execution_count": 6,
   "id": "faadd8d5",
   "metadata": {
    "execution": {
     "iopub.execute_input": "2024-01-20T17:25:29.112945Z",
     "iopub.status.busy": "2024-01-20T17:25:29.112565Z",
     "iopub.status.idle": "2024-01-20T17:25:29.373106Z",
     "shell.execute_reply": "2024-01-20T17:25:29.371978Z"
    },
    "papermill": {
     "duration": 0.268668,
     "end_time": "2024-01-20T17:25:29.375493",
     "exception": false,
     "start_time": "2024-01-20T17:25:29.106825",
     "status": "completed"
    },
    "tags": []
   },
   "outputs": [
    {
     "data": {
      "image/png": "[encoded data removed]",
      "text/plain": [
       "<Figure size 640x480 with 1 Axes>"
      ]
     },
     "metadata": {},
     "output_type": "display_data"
    }
   ],
   "source": [
    "data = [iris.target, y_pred]\n",
    "\n",
    "plt.boxplot(data)\n",
    "plt.xticks([1, 2], ['iris.target', 'y_pred'])\n",
    "plt.ylabel('Values')\n",
    "plt.title('Box Plot of iris.target and y_pred')\n",
    "plt.show()"
   ]
  },
  {
   "cell_type": "markdown",
   "id": "cc67bae6",
   "metadata": {
    "papermill": {
     "duration": 0.004381,
     "end_time": "2024-01-20T17:25:29.384663",
     "exception": false,
     "start_time": "2024-01-20T17:25:29.380282",
     "status": "completed"
    },
    "tags": []
   },
   "source": [
    "I hope all of this helped! God bless you."
   ]
  }
 ],
 "metadata": {
  "kaggle": {
   "accelerator": "none",
   "dataSources": [],
   "dockerImageVersionId": 30635,
   "isGpuEnabled": false,
   "isInternetEnabled": true,
   "language": "python",
   "sourceType": "notebook"
  },
  "kernelspec": {
   "display_name": "Python 3",
   "language": "python",
   "name": "python3"
  },
  "language_info": {
   "codemirror_mode": {
    "name": "ipython",
    "version": 3
   },
   "file_extension": ".py",
   "mimetype": "text/x-python",
   "name": "python",
   "nbconvert_exporter": "python",
   "pygments_lexer": "ipython3",
   "version": "3.10.12"
  },
  "papermill": {
   "default_parameters": {},
   "duration": 6.411163,
   "end_time": "2024-01-20T17:25:30.012174",
   "environment_variables": {},
   "exception": null,
   "input_path": "__notebook__.ipynb",
   "output_path": "__notebook__.ipynb",
   "parameters": {},
   "start_time": "2024-01-20T17:25:23.601011",
   "version": "2.4.0"
  }
 },
 "nbformat": 4,
 "nbformat_minor": 5
}
