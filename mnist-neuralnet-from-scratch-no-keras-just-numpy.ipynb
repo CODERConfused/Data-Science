{
 "cells": [
  {
   "cell_type": "markdown",
   "id": "b3f31d2d",
   "metadata": {
    "execution": {
     "iopub.execute_input": "2024-06-11T17:35:32.565983Z",
     "iopub.status.busy": "2024-06-11T17:35:32.565203Z",
     "iopub.status.idle": "2024-06-11T17:35:32.571074Z",
     "shell.execute_reply": "2024-06-11T17:35:32.570202Z",
     "shell.execute_reply.started": "2024-06-11T17:35:32.565950Z"
    },
    "papermill": {
     "duration": 0.009324,
     "end_time": "2024-06-11T19:25:55.168618",
     "exception": false,
     "start_time": "2024-06-11T19:25:55.159294",
     "status": "completed"
    },
    "tags": []
   },
   "source": [
    "<div style = \"background-image: linear-gradient(#4287f5, #265196, #183159); border-radius: 25px; padding: 25px; box-shadow: 0 5px 10px rgba(0, 0, 0, 0.3);max-width: 800px; margin: 15px auto;\">\n",
    "    <p style=\"font-family: 'Roboto', serif; font-size: 38px; text-align: center; font-style: italic; font-weight: bold; animation: textAnimation 5s infinite alternate;\">Simple MNIST Neural Network From Scratch Using Only Numpy and Math</p>\n",
    "</div>\n",
    "\n",
    "<style>\n",
    "    @keyframes textAnimation {\n",
    "        0% { color: #fcfcfc; }\n",
    "        50% { color: #afbbe3; }\n",
    "        100% { color: #fcfcfc; }\n",
    "    }\n",
    "</style>"
   ]
  },
  {
   "cell_type": "markdown",
   "id": "13712ac9",
   "metadata": {
    "papermill": {
     "duration": 0.008362,
     "end_time": "2024-06-11T19:25:55.185679",
     "exception": false,
     "start_time": "2024-06-11T19:25:55.177317",
     "status": "completed"
    },
    "tags": []
   },
   "source": [
    "<div style=\"max-width: 800px; margin: 40px auto; padding: 20px; border-radius: 15px; background-color: #183159; color: #fff; font-family: 'Roboto', sans-serif; position: relative; overflow: hidden; box-shadow: 0 4px 15px rgba(0, 0, 0, 0.3);\">\n",
    "  <div style=\"display: flex; align-items: center; justify-content: space-between;\">\n",
    "    <div style=\"max-width: 60%;\">\n",
    "      <h1 style=\"font-size: 32px; font-weight: 700; margin: 0; color: #fcfcfc;\">Hello, It's Me</h1>\n",
    "      <h2 style=\"font-size: 28px; font-weight: 700; margin: 10px 0; color: #fcfcfc;\">MiddleHigh </h2>\n",
    "      <h3 style=\"font-size: 22px; font-weight: 400; color: #fcfcfc; margin: 10px 0;\">And I'm a <span style=\"font-weight: 700;\">Data Science Enthusiast</span></h3>\n",
    "      <p style=\"font-size: 16px; line-height: 1.6; color: #b3b3b3;\">\n",
    "      I am an AI enthusiast who loves programming and exhibiting data. My goal is to use code to help people solve problems. \n",
    "      </p>\n",
    "      <div style=\"display: flex; gap: 15px; margin: 20px 0;\">\n",
    "        <a href=\"https://www.kaggle.com/middlehigh\" target=\"_blank\" style=\"text-decoration: none;\">\n",
    "          <img src=\"https://cdn4.iconfinder.com/data/icons/logos-and-brands/512/189_Kaggle_logo_logos-512.png\" alt=\"Kaggle\" style=\"width: 24px; height: 24px;\">\n",
    "        </a>\n",
    "        <a href=\"https://github.com/CODERConfused\" target=\"_blank\" style=\"text-decoration: none;\">\n",
    "          <img src=\"https://cdn-icons-png.flaticon.com/512/25/25657.png\" alt=\"GitHub\" style=\"width: 24px; height: 24px;\">\n",
    "        </a>\n",
    "      </div>\n",
    "      <a href=\"https://www.kaggle.com/middlehigh/code\" style=\"display: inline-block; padding: 10px 20px; border-radius: 5px; background-color: #fcfcfc; color: #1a1a1a; text-decoration: none; font-weight: 700; margin-top: 10px;\">\n",
    "        My Other Work\n",
    "      </a>\n",
    "    </div>\n",
    "    <div style=\"max-width: 35%; position: relative;\">\n",
    "      <div style=\"border-radius: 15px; overflow: hidden; box-shadow: 0 0 20px rgba(0, 230, 230, 0.7); background-color: #fcfcfc; padding: 4px;\">\n",
    "        <img src=\"https://img.goodfon.ru/wallpaper/nbig/5/6e/abstrakitsiia-fon-polosy-cherno-krasnyi-tsvet.webp\" alt=\"Profile Picture\" style=\"width: 100%; height: auto; border-radius: 15px;\">\n",
    "      </div>\n",
    "    </div>\n",
    "  </div>\n",
    "</div>"
   ]
  },
  {
   "cell_type": "markdown",
   "id": "4489ea0b",
   "metadata": {
    "papermill": {
     "duration": 0.008514,
     "end_time": "2024-06-11T19:25:55.202677",
     "exception": false,
     "start_time": "2024-06-11T19:25:55.194163",
     "status": "completed"
    },
    "tags": []
   },
   "source": [
    "<hr>\n",
    "\n",
    "# Simple MNIST Neural Network from Scratch"
   ]
  },
  {
   "cell_type": "markdown",
   "id": "f3af8213",
   "metadata": {
    "papermill": {
     "duration": 0.008256,
     "end_time": "2024-06-11T19:25:55.219388",
     "exception": false,
     "start_time": "2024-06-11T19:25:55.211132",
     "status": "completed"
    },
    "tags": []
   },
   "source": [
    "In this notebook, let's challenge ourselves and code a Neural Network **FROM SCRATCH**. We won't use Pytorch or Keras, we will use only numpy and math. So, let's jump right in!\n",
    "\n",
    "Huge thanks go to [Samson Zhang](https://www.kaggle.com/wwsalmon) for his [Youtube tutorial](https://www.youtube.com/watch?v=w8yWXqWQYmU) on how to create this project. "
   ]
  },
  {
   "cell_type": "markdown",
   "id": "48e93a25",
   "metadata": {
    "papermill": {
     "duration": 0.008283,
     "end_time": "2024-06-11T19:25:55.236087",
     "exception": false,
     "start_time": "2024-06-11T19:25:55.227804",
     "status": "completed"
    },
    "tags": []
   },
   "source": [
    "## Problem Statement\n",
    "\n",
    "Our neural network will tackle the problem of recognizing hand-written images. To train our neural network, we will use this [dataset](https://www.kaggle.com/competitions/digit-recognizer/data)."
   ]
  },
  {
   "cell_type": "markdown",
   "id": "8514b3ba",
   "metadata": {
    "papermill": {
     "duration": 0.008298,
     "end_time": "2024-06-11T19:25:55.252816",
     "exception": false,
     "start_time": "2024-06-11T19:25:55.244518",
     "status": "completed"
    },
    "tags": []
   },
   "source": [
    "## The Math\n",
    "\n",
    "The neural network will have three layers. The first one will be the input layer ($a^{[0]}$) with 784 nodes that correspond to the 784 pixels in each MNIST image. The second layer will be a hidden layer ($a^{[1]}$) that will have 10 nodes with ReLU activation function. The last layer will be our output layer $a^{[2]}$ with 10 units that represent the 10 digit classes in the data.\n",
    "\n",
    "**Forward propagation**\n",
    "​\n",
    "$$Z^{[1]} = W^{[1]} X + b^{[1]}$$\n",
    "$$A^{[1]} = g_{\\text{ReLU}}(Z^{[1]}))$$\n",
    "$$Z^{[2]} = W^{[2]} A^{[1]} + b^{[2]}$$\n",
    "$$A^{[2]} = g_{\\text{softmax}}(Z^{[2]})$$\n",
    "​\n",
    "**Backward propagation**\n",
    "​\n",
    "$$dZ^{[2]} = A^{[2]} - Y$$\n",
    "$$dW^{[2]} = \\frac{1}{m} dZ^{[2]} A^{[1]T}$$\n",
    "$$dB^{[2]} = \\frac{1}{m} \\Sigma {dZ^{[2]}}$$\n",
    "$$dZ^{[1]} = W^{[2]T} dZ^{[2]} .* g^{[1]\\prime} (z^{[1]})$$\n",
    "$$dW^{[1]} = \\frac{1}{m} dZ^{[1]} A^{[0]T}$$\n",
    "$$dB^{[1]} = \\frac{1}{m} \\Sigma {dZ^{[1]}}$$\n",
    "​\n",
    "**Parameter updates**\n",
    "​\n",
    "$$W^{[2]} := W^{[2]} - \\alpha dW^{[2]}$$\n",
    "$$b^{[2]} := b^{[2]} - \\alpha db^{[2]}$$\n",
    "$$W^{[1]} := W^{[1]} - \\alpha dW^{[1]}$$\n",
    "$$b^{[1]} := b^{[1]} - \\alpha db^{[1]}$$\n",
    "​\n",
    "**Variables**\n",
    "\n",
    "\n",
    "Forward prop\n",
    "​\n",
    "- $A^{[0]} = X$: 784 x m\n",
    "- $Z^{[1]} \\sim A^{[1]}$: 10 x m\n",
    "- $W^{[1]}$: 10 x 784 (as $W^{[1]} A^{[0]} \\sim Z^{[1]}$)\n",
    "- $B^{[1]}$: 10 x 1\n",
    "- $Z^{[2]} \\sim A^{[2]}$: 10 x m\n",
    "- $W^{[1]}$: 10 x 10 (as $W^{[2]} A^{[1]} \\sim Z^{[2]}$)\n",
    "- $B^{[2]}$: 10 x 1\n",
    "\n",
    "\n",
    "Backprop\n",
    "​\n",
    "- $dZ^{[2]}$: 10 x m ($~A^{[2]}$)\n",
    "- $dW^{[2]}$: 10 x 10\n",
    "- $dB^{[2]}$: 10 x 1\n",
    "- $dZ^{[1]}$: 10 x m ($~A^{[1]}$)\n",
    "- $dW^{[1]}$: 10 x 10\n",
    "- $dB^{[1]}$: 10 "
   ]
  },
  {
   "cell_type": "markdown",
   "id": "53f81eb2",
   "metadata": {
    "papermill": {
     "duration": 0.009069,
     "end_time": "2024-06-11T19:25:55.270308",
     "exception": false,
     "start_time": "2024-06-11T19:25:55.261239",
     "status": "completed"
    },
    "tags": []
   },
   "source": [
    "So with the math explained, let's code it up!"
   ]
  },
  {
   "cell_type": "markdown",
   "id": "3693832c",
   "metadata": {
    "papermill": {
     "duration": 0.008366,
     "end_time": "2024-06-11T19:25:55.287183",
     "exception": false,
     "start_time": "2024-06-11T19:25:55.278817",
     "status": "completed"
    },
    "tags": []
   },
   "source": [
    "<hr>"
   ]
  },
  {
   "cell_type": "markdown",
   "id": "33ea079b",
   "metadata": {
    "papermill": {
     "duration": 0.008208,
     "end_time": "2024-06-11T19:25:55.303840",
     "exception": false,
     "start_time": "2024-06-11T19:25:55.295632",
     "status": "completed"
    },
    "tags": []
   },
   "source": [
    "# Implementation\n",
    "\n",
    "Let's start by importing all the needed modules. For this project we will use numpy, pandas, matplotlib, and plotly."
   ]
  },
  {
   "cell_type": "code",
   "execution_count": 1,
   "id": "1d9806de",
   "metadata": {
    "execution": {
     "iopub.execute_input": "2024-06-11T19:25:55.322263Z",
     "iopub.status.busy": "2024-06-11T19:25:55.321902Z",
     "iopub.status.idle": "2024-06-11T19:25:56.652726Z",
     "shell.execute_reply": "2024-06-11T19:25:56.651731Z"
    },
    "papermill": {
     "duration": 1.342424,
     "end_time": "2024-06-11T19:25:56.654751",
     "exception": false,
     "start_time": "2024-06-11T19:25:55.312327",
     "status": "completed"
    },
    "tags": []
   },
   "outputs": [
    {
     "name": "stdout",
     "output_type": "stream",
     "text": [
      "Setup Complete\n"
     ]
    }
   ],
   "source": [
    "import pandas as pd \n",
    "import numpy as np \n",
    "import matplotlib.pyplot as plt \n",
    "import plotly.express as px \n",
    "import plotly.graph_objects as go\n",
    "print('Setup Complete')"
   ]
  },
  {
   "cell_type": "markdown",
   "id": "4763809c",
   "metadata": {
    "papermill": {
     "duration": 0.008652,
     "end_time": "2024-06-11T19:25:56.672497",
     "exception": false,
     "start_time": "2024-06-11T19:25:56.663845",
     "status": "completed"
    },
    "tags": []
   },
   "source": [
    "Now let's load the data. We will need only the training set."
   ]
  },
  {
   "cell_type": "code",
   "execution_count": 2,
   "id": "e2d18008",
   "metadata": {
    "execution": {
     "iopub.execute_input": "2024-06-11T19:25:56.691292Z",
     "iopub.status.busy": "2024-06-11T19:25:56.690828Z",
     "iopub.status.idle": "2024-06-11T19:26:00.500831Z",
     "shell.execute_reply": "2024-06-11T19:26:00.499779Z"
    },
    "papermill": {
     "duration": 3.821647,
     "end_time": "2024-06-11T19:26:00.502835",
     "exception": false,
     "start_time": "2024-06-11T19:25:56.681188",
     "status": "completed"
    },
    "tags": []
   },
   "outputs": [
    {
     "data": {
      "text/html": [
       "<div>\n",
       "<style scoped>\n",
       "    .dataframe tbody tr th:only-of-type {\n",
       "        vertical-align: middle;\n",
       "    }\n",
       "\n",
       "    .dataframe tbody tr th {\n",
       "        vertical-align: top;\n",
       "    }\n",
       "\n",
       "    .dataframe thead th {\n",
       "        text-align: right;\n",
       "    }\n",
       "</style>\n",
       "<table border=\"1\" class=\"dataframe\">\n",
       "  <thead>\n",
       "    <tr style=\"text-align: right;\">\n",
       "      <th></th>\n",
       "      <th>label</th>\n",
       "      <th>pixel0</th>\n",
       "      <th>pixel1</th>\n",
       "      <th>pixel2</th>\n",
       "      <th>pixel3</th>\n",
       "      <th>pixel4</th>\n",
       "      <th>pixel5</th>\n",
       "      <th>pixel6</th>\n",
       "      <th>pixel7</th>\n",
       "      <th>pixel8</th>\n",
       "      <th>...</th>\n",
       "      <th>pixel774</th>\n",
       "      <th>pixel775</th>\n",
       "      <th>pixel776</th>\n",
       "      <th>pixel777</th>\n",
       "      <th>pixel778</th>\n",
       "      <th>pixel779</th>\n",
       "      <th>pixel780</th>\n",
       "      <th>pixel781</th>\n",
       "      <th>pixel782</th>\n",
       "      <th>pixel783</th>\n",
       "    </tr>\n",
       "  </thead>\n",
       "  <tbody>\n",
       "    <tr>\n",
       "      <th>0</th>\n",
       "      <td>1</td>\n",
       "      <td>0</td>\n",
       "      <td>0</td>\n",
       "      <td>0</td>\n",
       "      <td>0</td>\n",
       "      <td>0</td>\n",
       "      <td>0</td>\n",
       "      <td>0</td>\n",
       "      <td>0</td>\n",
       "      <td>0</td>\n",
       "      <td>...</td>\n",
       "      <td>0</td>\n",
       "      <td>0</td>\n",
       "      <td>0</td>\n",
       "      <td>0</td>\n",
       "      <td>0</td>\n",
       "      <td>0</td>\n",
       "      <td>0</td>\n",
       "      <td>0</td>\n",
       "      <td>0</td>\n",
       "      <td>0</td>\n",
       "    </tr>\n",
       "    <tr>\n",
       "      <th>1</th>\n",
       "      <td>0</td>\n",
       "      <td>0</td>\n",
       "      <td>0</td>\n",
       "      <td>0</td>\n",
       "      <td>0</td>\n",
       "      <td>0</td>\n",
       "      <td>0</td>\n",
       "      <td>0</td>\n",
       "      <td>0</td>\n",
       "      <td>0</td>\n",
       "      <td>...</td>\n",
       "      <td>0</td>\n",
       "      <td>0</td>\n",
       "      <td>0</td>\n",
       "      <td>0</td>\n",
       "      <td>0</td>\n",
       "      <td>0</td>\n",
       "      <td>0</td>\n",
       "      <td>0</td>\n",
       "      <td>0</td>\n",
       "      <td>0</td>\n",
       "    </tr>\n",
       "    <tr>\n",
       "      <th>2</th>\n",
       "      <td>1</td>\n",
       "      <td>0</td>\n",
       "      <td>0</td>\n",
       "      <td>0</td>\n",
       "      <td>0</td>\n",
       "      <td>0</td>\n",
       "      <td>0</td>\n",
       "      <td>0</td>\n",
       "      <td>0</td>\n",
       "      <td>0</td>\n",
       "      <td>...</td>\n",
       "      <td>0</td>\n",
       "      <td>0</td>\n",
       "      <td>0</td>\n",
       "      <td>0</td>\n",
       "      <td>0</td>\n",
       "      <td>0</td>\n",
       "      <td>0</td>\n",
       "      <td>0</td>\n",
       "      <td>0</td>\n",
       "      <td>0</td>\n",
       "    </tr>\n",
       "    <tr>\n",
       "      <th>3</th>\n",
       "      <td>4</td>\n",
       "      <td>0</td>\n",
       "      <td>0</td>\n",
       "      <td>0</td>\n",
       "      <td>0</td>\n",
       "      <td>0</td>\n",
       "      <td>0</td>\n",
       "      <td>0</td>\n",
       "      <td>0</td>\n",
       "      <td>0</td>\n",
       "      <td>...</td>\n",
       "      <td>0</td>\n",
       "      <td>0</td>\n",
       "      <td>0</td>\n",
       "      <td>0</td>\n",
       "      <td>0</td>\n",
       "      <td>0</td>\n",
       "      <td>0</td>\n",
       "      <td>0</td>\n",
       "      <td>0</td>\n",
       "      <td>0</td>\n",
       "    </tr>\n",
       "    <tr>\n",
       "      <th>4</th>\n",
       "      <td>0</td>\n",
       "      <td>0</td>\n",
       "      <td>0</td>\n",
       "      <td>0</td>\n",
       "      <td>0</td>\n",
       "      <td>0</td>\n",
       "      <td>0</td>\n",
       "      <td>0</td>\n",
       "      <td>0</td>\n",
       "      <td>0</td>\n",
       "      <td>...</td>\n",
       "      <td>0</td>\n",
       "      <td>0</td>\n",
       "      <td>0</td>\n",
       "      <td>0</td>\n",
       "      <td>0</td>\n",
       "      <td>0</td>\n",
       "      <td>0</td>\n",
       "      <td>0</td>\n",
       "      <td>0</td>\n",
       "      <td>0</td>\n",
       "    </tr>\n",
       "  </tbody>\n",
       "</table>\n",
       "<p>5 rows × 785 columns</p>\n",
       "</div>"
      ],
      "text/plain": [
       "   label  pixel0  pixel1  pixel2  pixel3  pixel4  pixel5  pixel6  pixel7  \\\n",
       "0      1       0       0       0       0       0       0       0       0   \n",
       "1      0       0       0       0       0       0       0       0       0   \n",
       "2      1       0       0       0       0       0       0       0       0   \n",
       "3      4       0       0       0       0       0       0       0       0   \n",
       "4      0       0       0       0       0       0       0       0       0   \n",
       "\n",
       "   pixel8  ...  pixel774  pixel775  pixel776  pixel777  pixel778  pixel779  \\\n",
       "0       0  ...         0         0         0         0         0         0   \n",
       "1       0  ...         0         0         0         0         0         0   \n",
       "2       0  ...         0         0         0         0         0         0   \n",
       "3       0  ...         0         0         0         0         0         0   \n",
       "4       0  ...         0         0         0         0         0         0   \n",
       "\n",
       "   pixel780  pixel781  pixel782  pixel783  \n",
       "0         0         0         0         0  \n",
       "1         0         0         0         0  \n",
       "2         0         0         0         0  \n",
       "3         0         0         0         0  \n",
       "4         0         0         0         0  \n",
       "\n",
       "[5 rows x 785 columns]"
      ]
     },
     "execution_count": 2,
     "metadata": {},
     "output_type": "execute_result"
    }
   ],
   "source": [
    "data = pd.read_csv('/kaggle/input/digit-recognizer/train.csv')\n",
    "\n",
    "data.head(5)"
   ]
  },
  {
   "cell_type": "markdown",
   "id": "3a452205",
   "metadata": {
    "papermill": {
     "duration": 0.008934,
     "end_time": "2024-06-11T19:26:00.521104",
     "exception": false,
     "start_time": "2024-06-11T19:26:00.512170",
     "status": "completed"
    },
    "tags": []
   },
   "source": [
    "Now, let's split the training set into train and dev sets to avoid overfitting."
   ]
  },
  {
   "cell_type": "code",
   "execution_count": 3,
   "id": "0bd6f20d",
   "metadata": {
    "execution": {
     "iopub.execute_input": "2024-06-11T19:26:00.540275Z",
     "iopub.status.busy": "2024-06-11T19:26:00.539968Z",
     "iopub.status.idle": "2024-06-11T19:26:01.228277Z",
     "shell.execute_reply": "2024-06-11T19:26:01.227477Z"
    },
    "papermill": {
     "duration": 0.700559,
     "end_time": "2024-06-11T19:26:01.230632",
     "exception": false,
     "start_time": "2024-06-11T19:26:00.530073",
     "status": "completed"
    },
    "tags": []
   },
   "outputs": [],
   "source": [
    "data = np.array(data)\n",
    "\n",
    "m,n = data.shape\n",
    "np.random.shuffle(data)\n",
    "\n",
    "data_dev = data[0:1000].T\n",
    "y_dev = data_dev[0]\n",
    "x_dev = data_dev[1:n]\n",
    "x_dev = x_dev / 225.\n",
    "\n",
    "data_train = data[1000:m].T\n",
    "y_train = data_train[0]\n",
    "x_train = data_train[1:n]\n",
    "x_train = x_train / 255.\n",
    "_,m_train = x_train.shape"
   ]
  },
  {
   "cell_type": "markdown",
   "id": "67ffec93",
   "metadata": {
    "papermill": {
     "duration": 0.008814,
     "end_time": "2024-06-11T19:26:01.249024",
     "exception": false,
     "start_time": "2024-06-11T19:26:01.240210",
     "status": "completed"
    },
    "tags": []
   },
   "source": [
    "Now let's initialize the parameters we will need for this model."
   ]
  },
  {
   "cell_type": "code",
   "execution_count": 4,
   "id": "83d8aa15",
   "metadata": {
    "execution": {
     "iopub.execute_input": "2024-06-11T19:26:01.268314Z",
     "iopub.status.busy": "2024-06-11T19:26:01.267975Z",
     "iopub.status.idle": "2024-06-11T19:26:01.273824Z",
     "shell.execute_reply": "2024-06-11T19:26:01.272968Z"
    },
    "papermill": {
     "duration": 0.017662,
     "end_time": "2024-06-11T19:26:01.275687",
     "exception": false,
     "start_time": "2024-06-11T19:26:01.258025",
     "status": "completed"
    },
    "tags": []
   },
   "outputs": [],
   "source": [
    "def init_params():\n",
    "    W1 = np.random.normal(size=(10, 784)) * np.sqrt(1./(784))\n",
    "    B1 = np.random.normal(size=(10, 1)) * np.sqrt(1./10)\n",
    "    W2 = np.random.normal(size=(10, 10)) * np.sqrt(1./20)\n",
    "    B2 = np.random.normal(size=(10, 1)) * np.sqrt(1./(784))\n",
    "    return W1, B1, W2, B2"
   ]
  },
  {
   "cell_type": "markdown",
   "id": "f58b936c",
   "metadata": {
    "papermill": {
     "duration": 0.00872,
     "end_time": "2024-06-11T19:26:01.293387",
     "exception": false,
     "start_time": "2024-06-11T19:26:01.284667",
     "status": "completed"
    },
    "tags": []
   },
   "source": [
    "Now let's create ther ReLU and softmax functions that we will use later on."
   ]
  },
  {
   "cell_type": "code",
   "execution_count": 5,
   "id": "6870a2c5",
   "metadata": {
    "execution": {
     "iopub.execute_input": "2024-06-11T19:26:01.312341Z",
     "iopub.status.busy": "2024-06-11T19:26:01.312072Z",
     "iopub.status.idle": "2024-06-11T19:26:01.316597Z",
     "shell.execute_reply": "2024-06-11T19:26:01.315876Z"
    },
    "papermill": {
     "duration": 0.016127,
     "end_time": "2024-06-11T19:26:01.318490",
     "exception": false,
     "start_time": "2024-06-11T19:26:01.302363",
     "status": "completed"
    },
    "tags": []
   },
   "outputs": [],
   "source": [
    "def ReLU(Z):\n",
    "    return np.maximum(Z, 0)\n",
    "\n",
    "def softmax(Z):\n",
    "    A = np.exp(Z) / sum(np.exp(Z))\n",
    "    return A"
   ]
  },
  {
   "cell_type": "markdown",
   "id": "b2b19e2b",
   "metadata": {
    "papermill": {
     "duration": 0.008996,
     "end_time": "2024-06-11T19:26:01.336346",
     "exception": false,
     "start_time": "2024-06-11T19:26:01.327350",
     "status": "completed"
    },
    "tags": []
   },
   "source": [
    "Now, let's create the forward propagation function."
   ]
  },
  {
   "cell_type": "code",
   "execution_count": 6,
   "id": "e41f1cbd",
   "metadata": {
    "execution": {
     "iopub.execute_input": "2024-06-11T19:26:01.355195Z",
     "iopub.status.busy": "2024-06-11T19:26:01.354920Z",
     "iopub.status.idle": "2024-06-11T19:26:01.359640Z",
     "shell.execute_reply": "2024-06-11T19:26:01.358805Z"
    },
    "papermill": {
     "duration": 0.01632,
     "end_time": "2024-06-11T19:26:01.361606",
     "exception": false,
     "start_time": "2024-06-11T19:26:01.345286",
     "status": "completed"
    },
    "tags": []
   },
   "outputs": [],
   "source": [
    "def forward_prop(W1, B1, W2, B2, X):\n",
    "    Z1 = W1.dot(X) + B1\n",
    "    A1 = ReLU(Z1)\n",
    "    Z2 = W2.dot(A1) + B2\n",
    "    A2 = softmax(Z2)\n",
    "    return Z1, A1, Z2, A2"
   ]
  },
  {
   "cell_type": "markdown",
   "id": "9f4a4128",
   "metadata": {
    "papermill": {
     "duration": 0.008818,
     "end_time": "2024-06-11T19:26:01.379402",
     "exception": false,
     "start_time": "2024-06-11T19:26:01.370584",
     "status": "completed"
    },
    "tags": []
   },
   "source": [
    "Let's define the one hot encode function that we will need for the backward propagation."
   ]
  },
  {
   "cell_type": "code",
   "execution_count": 7,
   "id": "4d363786",
   "metadata": {
    "execution": {
     "iopub.execute_input": "2024-06-11T19:26:01.398846Z",
     "iopub.status.busy": "2024-06-11T19:26:01.398323Z",
     "iopub.status.idle": "2024-06-11T19:26:01.403238Z",
     "shell.execute_reply": "2024-06-11T19:26:01.402373Z"
    },
    "papermill": {
     "duration": 0.01685,
     "end_time": "2024-06-11T19:26:01.405223",
     "exception": false,
     "start_time": "2024-06-11T19:26:01.388373",
     "status": "completed"
    },
    "tags": []
   },
   "outputs": [],
   "source": [
    "def one_hot(Y):\n",
    "    one_hot_Y = np.zeros((Y.size, Y.max() + 1))\n",
    "    one_hot_Y[np.arange(Y.size), Y] = 1\n",
    "    one_hot_Y = one_hot_Y.T \n",
    "    return one_hot_Y\n",
    "\n",
    "def deriv_ReLU(Z):\n",
    "    return Z > 0"
   ]
  },
  {
   "cell_type": "markdown",
   "id": "a3c6a250",
   "metadata": {
    "papermill": {
     "duration": 0.00872,
     "end_time": "2024-06-11T19:26:01.422845",
     "exception": false,
     "start_time": "2024-06-11T19:26:01.414125",
     "status": "completed"
    },
    "tags": []
   },
   "source": [
    "Finally, let's create the backward propagation function."
   ]
  },
  {
   "cell_type": "code",
   "execution_count": 8,
   "id": "28f138b5",
   "metadata": {
    "execution": {
     "iopub.execute_input": "2024-06-11T19:26:01.442023Z",
     "iopub.status.busy": "2024-06-11T19:26:01.441757Z",
     "iopub.status.idle": "2024-06-11T19:26:01.447239Z",
     "shell.execute_reply": "2024-06-11T19:26:01.446401Z"
    },
    "papermill": {
     "duration": 0.017236,
     "end_time": "2024-06-11T19:26:01.449189",
     "exception": false,
     "start_time": "2024-06-11T19:26:01.431953",
     "status": "completed"
    },
    "tags": []
   },
   "outputs": [],
   "source": [
    "def back_prop(Z1, A1, Z2, A2, W1, W2, X, Y):\n",
    "    one_hot_Y = one_hot(Y)\n",
    "    dz2 = A2 - one_hot_Y\n",
    "    dw2 = 1 / m * dz2.dot(A1.T)\n",
    "    db2 = 1 / m * np.sum(dz2)\n",
    "    dz1 = W2.T.dot(dz2) * deriv_ReLU(Z1)\n",
    "    dw1 = 1 / m * dz1.dot(X.T)\n",
    "    db1 = 1 / m * np.sum(dz1)\n",
    "    return dw1, db1, dw2, db2"
   ]
  },
  {
   "cell_type": "markdown",
   "id": "145a07a3",
   "metadata": {
    "papermill": {
     "duration": 0.008731,
     "end_time": "2024-06-11T19:26:01.466890",
     "exception": false,
     "start_time": "2024-06-11T19:26:01.458159",
     "status": "completed"
    },
    "tags": []
   },
   "source": [
    "Now, let's make a function that will update our parameters."
   ]
  },
  {
   "cell_type": "code",
   "execution_count": 9,
   "id": "d27ed1de",
   "metadata": {
    "execution": {
     "iopub.execute_input": "2024-06-11T19:26:01.485694Z",
     "iopub.status.busy": "2024-06-11T19:26:01.485391Z",
     "iopub.status.idle": "2024-06-11T19:26:01.490121Z",
     "shell.execute_reply": "2024-06-11T19:26:01.489253Z"
    },
    "papermill": {
     "duration": 0.016177,
     "end_time": "2024-06-11T19:26:01.491935",
     "exception": false,
     "start_time": "2024-06-11T19:26:01.475758",
     "status": "completed"
    },
    "tags": []
   },
   "outputs": [],
   "source": [
    "def update_params(W1, B1, W2, B2, dw1, db1, dw2, db2, alpha):\n",
    "    W1 = W1 - alpha * dw1\n",
    "    B1 = B1 - alpha * db1\n",
    "    W2 = W2 - alpha * dw2 \n",
    "    B2 = B2 - alpha * db2\n",
    "    return W1, B1, W2, B2"
   ]
  },
  {
   "cell_type": "markdown",
   "id": "a7c79084",
   "metadata": {
    "papermill": {
     "duration": 0.00878,
     "end_time": "2024-06-11T19:26:01.510080",
     "exception": false,
     "start_time": "2024-06-11T19:26:01.501300",
     "status": "completed"
    },
    "tags": []
   },
   "source": [
    "And last but not least, let's the functions that will make the predictions and determine the accuracy score."
   ]
  },
  {
   "cell_type": "code",
   "execution_count": 10,
   "id": "99fd5607",
   "metadata": {
    "execution": {
     "iopub.execute_input": "2024-06-11T19:26:01.529240Z",
     "iopub.status.busy": "2024-06-11T19:26:01.528972Z",
     "iopub.status.idle": "2024-06-11T19:26:01.538703Z",
     "shell.execute_reply": "2024-06-11T19:26:01.537862Z"
    },
    "papermill": {
     "duration": 0.021619,
     "end_time": "2024-06-11T19:26:01.540585",
     "exception": false,
     "start_time": "2024-06-11T19:26:01.518966",
     "status": "completed"
    },
    "tags": []
   },
   "outputs": [],
   "source": [
    "def get_preds(A2):\n",
    "    return np.argmax(A2, 0)\n",
    "\n",
    "def get_accuracy(predictions, Y):\n",
    "    print(predictions, Y)\n",
    "    return np.sum(predictions == Y) / Y.size\n",
    "\n",
    "def gradient_descent(X, Y, alpha, iterations):\n",
    "    W1, B1, W2, B2 = init_params()\n",
    "    accuracies = []  # List to store accuracies for each iteration\n",
    "    for i in range(iterations):\n",
    "        Z1, A1, Z2, A2 = forward_prop(W1, B1, W2, B2, X)\n",
    "        dw1, db1, dw2, db2 = back_prop(Z1, A1, Z2, A2, W1, W2, X, Y)\n",
    "        W1, B1, W2, B2 = update_params(W1, B1, W2, B2, dw1, db1, dw2, db2, alpha)\n",
    "        if i % 10 == 0:\n",
    "            predictions = get_preds(A2)\n",
    "            accuracy = get_accuracy(predictions, Y)\n",
    "            accuracies.append(accuracy)  # Store accuracy for this iteration\n",
    "            print(\"Iteration:\", i, \"Accuracy:\", accuracy)\n",
    "    \n",
    "    # Plotting accuracy\n",
    "    print(\"------------------------------------------------------------------------------------------------------------------------------------------------------------------\")\n",
    "    print(\"------------------------------------------------------------------------------------------------------------------------------------------------------------------\")\n",
    "    print(\"------------------------------------------------------------------------------------------------------------------------------------------------------------------\")\n",
    "    fig = go.Figure()\n",
    "    fig.add_trace(go.Scatter(x=list(range(0, iterations, 10)), y=accuracies, mode='lines+markers', line = dict(color = '#17A2B8')))\n",
    "    fig.update_layout(title='Accuracy over iterations', xaxis_title='Iterations', yaxis_title='Accuracy')\n",
    "    fig.show()\n",
    "    \n",
    "    \n",
    "    return W1, B1, W2, B2"
   ]
  },
  {
   "cell_type": "code",
   "execution_count": 11,
   "id": "bea3214e",
   "metadata": {
    "execution": {
     "iopub.execute_input": "2024-06-11T19:26:01.559267Z",
     "iopub.status.busy": "2024-06-11T19:26:01.559010Z",
     "iopub.status.idle": "2024-06-11T19:26:38.443723Z",
     "shell.execute_reply": "2024-06-11T19:26:38.442823Z"
    },
    "papermill": {
     "duration": 36.896481,
     "end_time": "2024-06-11T19:26:38.445862",
     "exception": false,
     "start_time": "2024-06-11T19:26:01.549381",
     "status": "completed"
    },
    "tags": []
   },
   "outputs": [
    {
     "name": "stdout",
     "output_type": "stream",
     "text": [
      "[0 7 7 ... 0 7 7] [9 7 2 ... 2 8 6]\n",
      "Iteration: 0 Accuracy: 0.14848780487804877\n",
      "[7 7 0 ... 0 3 7] [9 7 2 ... 2 8 6]\n",
      "Iteration: 10 Accuracy: 0.2475609756097561\n",
      "[7 7 0 ... 0 3 0] [9 7 2 ... 2 8 6]\n",
      "Iteration: 20 Accuracy: 0.35248780487804876\n",
      "[7 7 2 ... 0 3 0] [9 7 2 ... 2 8 6]\n",
      "Iteration: 30 Accuracy: 0.5175853658536586\n",
      "[7 7 2 ... 0 3 6] [9 7 2 ... 2 8 6]\n",
      "Iteration: 40 Accuracy: 0.6537560975609756\n",
      "[7 7 2 ... 0 8 6] [9 7 2 ... 2 8 6]\n",
      "Iteration: 50 Accuracy: 0.7226585365853658\n",
      "[7 7 1 ... 0 8 6] [9 7 2 ... 2 8 6]\n",
      "Iteration: 60 Accuracy: 0.758609756097561\n",
      "[7 7 1 ... 2 8 6] [9 7 2 ... 2 8 6]\n",
      "Iteration: 70 Accuracy: 0.7811219512195122\n",
      "[7 7 1 ... 2 8 6] [9 7 2 ... 2 8 6]\n",
      "Iteration: 80 Accuracy: 0.7967560975609757\n",
      "[7 7 1 ... 2 8 6] [9 7 2 ... 2 8 6]\n",
      "Iteration: 90 Accuracy: 0.8078536585365854\n",
      "[7 7 1 ... 2 8 6] [9 7 2 ... 2 8 6]\n",
      "Iteration: 100 Accuracy: 0.8178536585365853\n",
      "[7 7 1 ... 2 8 6] [9 7 2 ... 2 8 6]\n",
      "Iteration: 110 Accuracy: 0.824780487804878\n",
      "[7 7 2 ... 2 8 6] [9 7 2 ... 2 8 6]\n",
      "Iteration: 120 Accuracy: 0.831170731707317\n",
      "[7 7 2 ... 2 8 6] [9 7 2 ... 2 8 6]\n",
      "Iteration: 130 Accuracy: 0.836\n",
      "[7 7 2 ... 2 8 6] [9 7 2 ... 2 8 6]\n",
      "Iteration: 140 Accuracy: 0.840609756097561\n",
      "[7 7 2 ... 2 8 6] [9 7 2 ... 2 8 6]\n",
      "Iteration: 150 Accuracy: 0.8444878048780488\n",
      "[7 7 2 ... 2 8 6] [9 7 2 ... 2 8 6]\n",
      "Iteration: 160 Accuracy: 0.8487317073170731\n",
      "[7 7 2 ... 2 8 6] [9 7 2 ... 2 8 6]\n",
      "Iteration: 170 Accuracy: 0.852\n",
      "[7 7 2 ... 2 8 6] [9 7 2 ... 2 8 6]\n",
      "Iteration: 180 Accuracy: 0.8556829268292683\n",
      "[7 7 2 ... 2 8 6] [9 7 2 ... 2 8 6]\n",
      "Iteration: 190 Accuracy: 0.8589512195121951\n",
      "[7 7 2 ... 2 8 6] [9 7 2 ... 2 8 6]\n",
      "Iteration: 200 Accuracy: 0.8614146341463415\n",
      "[7 7 2 ... 2 8 6] [9 7 2 ... 2 8 6]\n",
      "Iteration: 210 Accuracy: 0.8640243902439024\n",
      "[7 7 2 ... 2 8 6] [9 7 2 ... 2 8 6]\n",
      "Iteration: 220 Accuracy: 0.8660487804878049\n",
      "[9 7 2 ... 2 8 6] [9 7 2 ... 2 8 6]\n",
      "Iteration: 230 Accuracy: 0.8679268292682927\n",
      "[9 7 2 ... 2 8 6] [9 7 2 ... 2 8 6]\n",
      "Iteration: 240 Accuracy: 0.8700731707317073\n",
      "[9 7 2 ... 2 8 6] [9 7 2 ... 2 8 6]\n",
      "Iteration: 250 Accuracy: 0.871780487804878\n",
      "[9 7 2 ... 2 8 6] [9 7 2 ... 2 8 6]\n",
      "Iteration: 260 Accuracy: 0.8735121951219512\n",
      "[9 7 2 ... 2 8 6] [9 7 2 ... 2 8 6]\n",
      "Iteration: 270 Accuracy: 0.8749024390243902\n",
      "[9 7 2 ... 2 8 6] [9 7 2 ... 2 8 6]\n",
      "Iteration: 280 Accuracy: 0.8764878048780488\n",
      "[9 7 2 ... 2 8 6] [9 7 2 ... 2 8 6]\n",
      "Iteration: 290 Accuracy: 0.877780487804878\n",
      "[9 7 2 ... 2 8 6] [9 7 2 ... 2 8 6]\n",
      "Iteration: 300 Accuracy: 0.8789268292682927\n",
      "[9 7 2 ... 2 8 6] [9 7 2 ... 2 8 6]\n",
      "Iteration: 310 Accuracy: 0.8803414634146342\n",
      "[9 7 2 ... 2 8 6] [9 7 2 ... 2 8 6]\n",
      "Iteration: 320 Accuracy: 0.8815121951219512\n",
      "[9 7 2 ... 2 8 6] [9 7 2 ... 2 8 6]\n",
      "Iteration: 330 Accuracy: 0.8826341463414634\n",
      "[9 7 2 ... 2 8 6] [9 7 2 ... 2 8 6]\n",
      "Iteration: 340 Accuracy: 0.8838780487804878\n",
      "[9 7 2 ... 2 8 6] [9 7 2 ... 2 8 6]\n",
      "Iteration: 350 Accuracy: 0.8851463414634146\n",
      "[9 7 2 ... 2 8 6] [9 7 2 ... 2 8 6]\n",
      "Iteration: 360 Accuracy: 0.8860731707317073\n",
      "[9 7 2 ... 2 8 6] [9 7 2 ... 2 8 6]\n",
      "Iteration: 370 Accuracy: 0.8871463414634146\n",
      "[9 7 2 ... 2 8 6] [9 7 2 ... 2 8 6]\n",
      "Iteration: 380 Accuracy: 0.8880731707317073\n",
      "[9 7 2 ... 2 8 6] [9 7 2 ... 2 8 6]\n",
      "Iteration: 390 Accuracy: 0.8891707317073171\n",
      "[9 7 2 ... 2 8 6] [9 7 2 ... 2 8 6]\n",
      "Iteration: 400 Accuracy: 0.8898048780487805\n",
      "[9 7 2 ... 2 8 6] [9 7 2 ... 2 8 6]\n",
      "Iteration: 410 Accuracy: 0.8906585365853659\n",
      "[9 7 2 ... 2 8 6] [9 7 2 ... 2 8 6]\n",
      "Iteration: 420 Accuracy: 0.8918780487804878\n",
      "[9 7 2 ... 2 8 6] [9 7 2 ... 2 8 6]\n",
      "Iteration: 430 Accuracy: 0.8927073170731707\n",
      "[9 7 2 ... 2 8 6] [9 7 2 ... 2 8 6]\n",
      "Iteration: 440 Accuracy: 0.8934390243902439\n",
      "[9 7 2 ... 2 8 6] [9 7 2 ... 2 8 6]\n",
      "Iteration: 450 Accuracy: 0.8944878048780488\n",
      "[9 7 2 ... 2 8 6] [9 7 2 ... 2 8 6]\n",
      "Iteration: 460 Accuracy: 0.8952439024390244\n",
      "[9 7 2 ... 2 8 6] [9 7 2 ... 2 8 6]\n",
      "Iteration: 470 Accuracy: 0.8963658536585366\n",
      "[9 7 2 ... 2 8 6] [9 7 2 ... 2 8 6]\n",
      "Iteration: 480 Accuracy: 0.897\n",
      "[9 7 2 ... 2 8 6] [9 7 2 ... 2 8 6]\n",
      "Iteration: 490 Accuracy: 0.8977073170731708\n",
      "------------------------------------------------------------------------------------------------------------------------------------------------------------------\n",
      "------------------------------------------------------------------------------------------------------------------------------------------------------------------\n",
      "------------------------------------------------------------------------------------------------------------------------------------------------------------------\n"
     ]
    },
    {
     "data": {
      "text/html": [
       "        <script type=\"text/javascript\">\n",
       "        window.PlotlyConfig = {MathJaxConfig: 'local'};\n",
       "        if (window.MathJax && window.MathJax.Hub && window.MathJax.Hub.Config) {window.MathJax.Hub.Config({SVG: {font: \"STIX-Web\"}});}\n",
       "        if (typeof require !== 'undefined') {\n",
       "        require.undef(\"plotly\");\n",
       "        requirejs.config({\n",
       "            paths: {\n",
       "                'plotly': ['https://cdn.plot.ly/plotly-2.27.0.min']\n",
       "            }\n",
       "        });\n",
       "        require(['plotly'], function(Plotly) {\n",
       "            window._Plotly = Plotly;\n",
       "        });\n",
       "        }\n",
       "        </script>\n",
       "        "
      ]
     },
     "metadata": {},
     "output_type": "display_data"
    },
    {
     "data": {
      "text/html": [
       "<div>                            <div id=\"5c8562fe-67db-4182-b836-6380c3db5665\" class=\"plotly-graph-div\" style=\"height:525px; width:100%;\"></div>            <script type=\"text/javascript\">                require([\"plotly\"], function(Plotly) {                    window.PLOTLYENV=window.PLOTLYENV || {};                                    if (document.getElementById(\"5c8562fe-67db-4182-b836-6380c3db5665\")) {                    Plotly.newPlot(                        \"5c8562fe-67db-4182-b836-6380c3db5665\",                        [{\"line\":{\"color\":\"#17A2B8\"},\"mode\":\"lines+markers\",\"x\":[0,10,20,30,40,50,60,70,80,90,100,110,120,130,140,150,160,170,180,190,200,210,220,230,240,250,260,270,280,290,300,310,320,330,340,350,360,370,380,390,400,410,420,430,440,450,460,470,480,490],\"y\":[0.14848780487804877,0.2475609756097561,0.35248780487804876,0.5175853658536586,0.6537560975609756,0.7226585365853658,0.758609756097561,0.7811219512195122,0.7967560975609757,0.8078536585365854,0.8178536585365853,0.824780487804878,0.831170731707317,0.836,0.840609756097561,0.8444878048780488,0.8487317073170731,0.852,0.8556829268292683,0.8589512195121951,0.8614146341463415,0.8640243902439024,0.8660487804878049,0.8679268292682927,0.8700731707317073,0.871780487804878,0.8735121951219512,0.8749024390243902,0.8764878048780488,0.877780487804878,0.8789268292682927,0.8803414634146342,0.8815121951219512,0.8826341463414634,0.8838780487804878,0.8851463414634146,0.8860731707317073,0.8871463414634146,0.8880731707317073,0.8891707317073171,0.8898048780487805,0.8906585365853659,0.8918780487804878,0.8927073170731707,0.8934390243902439,0.8944878048780488,0.8952439024390244,0.8963658536585366,0.897,0.8977073170731708],\"type\":\"scatter\"}],                        {\"template\":{\"data\":{\"histogram2dcontour\":[{\"type\":\"histogram2dcontour\",\"colorbar\":{\"outlinewidth\":0,\"ticks\":\"\"},\"colorscale\":[[0.0,\"#0d0887\"],[0.1111111111111111,\"#46039f\"],[0.2222222222222222,\"#7201a8\"],[0.3333333333333333,\"#9c179e\"],[0.4444444444444444,\"#bd3786\"],[0.5555555555555556,\"#d8576b\"],[0.6666666666666666,\"#ed7953\"],[0.7777777777777778,\"#fb9f3a\"],[0.8888888888888888,\"#fdca26\"],[1.0,\"#f0f921\"]]}],\"choropleth\":[{\"type\":\"choropleth\",\"colorbar\":{\"outlinewidth\":0,\"ticks\":\"\"}}],\"histogram2d\":[{\"type\":\"histogram2d\",\"colorbar\":{\"outlinewidth\":0,\"ticks\":\"\"},\"colorscale\":[[0.0,\"#0d0887\"],[0.1111111111111111,\"#46039f\"],[0.2222222222222222,\"#7201a8\"],[0.3333333333333333,\"#9c179e\"],[0.4444444444444444,\"#bd3786\"],[0.5555555555555556,\"#d8576b\"],[0.6666666666666666,\"#ed7953\"],[0.7777777777777778,\"#fb9f3a\"],[0.8888888888888888,\"#fdca26\"],[1.0,\"#f0f921\"]]}],\"heatmap\":[{\"type\":\"heatmap\",\"colorbar\":{\"outlinewidth\":0,\"ticks\":\"\"},\"colorscale\":[[0.0,\"#0d0887\"],[0.1111111111111111,\"#46039f\"],[0.2222222222222222,\"#7201a8\"],[0.3333333333333333,\"#9c179e\"],[0.4444444444444444,\"#bd3786\"],[0.5555555555555556,\"#d8576b\"],[0.6666666666666666,\"#ed7953\"],[0.7777777777777778,\"#fb9f3a\"],[0.8888888888888888,\"#fdca26\"],[1.0,\"#f0f921\"]]}],\"heatmapgl\":[{\"type\":\"heatmapgl\",\"colorbar\":{\"outlinewidth\":0,\"ticks\":\"\"},\"colorscale\":[[0.0,\"#0d0887\"],[0.1111111111111111,\"#46039f\"],[0.2222222222222222,\"#7201a8\"],[0.3333333333333333,\"#9c179e\"],[0.4444444444444444,\"#bd3786\"],[0.5555555555555556,\"#d8576b\"],[0.6666666666666666,\"#ed7953\"],[0.7777777777777778,\"#fb9f3a\"],[0.8888888888888888,\"#fdca26\"],[1.0,\"#f0f921\"]]}],\"contourcarpet\":[{\"type\":\"contourcarpet\",\"colorbar\":{\"outlinewidth\":0,\"ticks\":\"\"}}],\"contour\":[{\"type\":\"contour\",\"colorbar\":{\"outlinewidth\":0,\"ticks\":\"\"},\"colorscale\":[[0.0,\"#0d0887\"],[0.1111111111111111,\"#46039f\"],[0.2222222222222222,\"#7201a8\"],[0.3333333333333333,\"#9c179e\"],[0.4444444444444444,\"#bd3786\"],[0.5555555555555556,\"#d8576b\"],[0.6666666666666666,\"#ed7953\"],[0.7777777777777778,\"#fb9f3a\"],[0.8888888888888888,\"#fdca26\"],[1.0,\"#f0f921\"]]}],\"surface\":[{\"type\":\"surface\",\"colorbar\":{\"outlinewidth\":0,\"ticks\":\"\"},\"colorscale\":[[0.0,\"#0d0887\"],[0.1111111111111111,\"#46039f\"],[0.2222222222222222,\"#7201a8\"],[0.3333333333333333,\"#9c179e\"],[0.4444444444444444,\"#bd3786\"],[0.5555555555555556,\"#d8576b\"],[0.6666666666666666,\"#ed7953\"],[0.7777777777777778,\"#fb9f3a\"],[0.8888888888888888,\"#fdca26\"],[1.0,\"#f0f921\"]]}],\"mesh3d\":[{\"type\":\"mesh3d\",\"colorbar\":{\"outlinewidth\":0,\"ticks\":\"\"}}],\"scatter\":[{\"fillpattern\":{\"fillmode\":\"overlay\",\"size\":10,\"solidity\":0.2},\"type\":\"scatter\"}],\"parcoords\":[{\"type\":\"parcoords\",\"line\":{\"colorbar\":{\"outlinewidth\":0,\"ticks\":\"\"}}}],\"scatterpolargl\":[{\"type\":\"scatterpolargl\",\"marker\":{\"colorbar\":{\"outlinewidth\":0,\"ticks\":\"\"}}}],\"bar\":[{\"error_x\":{\"color\":\"#2a3f5f\"},\"error_y\":{\"color\":\"#2a3f5f\"},\"marker\":{\"line\":{\"color\":\"#E5ECF6\",\"width\":0.5},\"pattern\":{\"fillmode\":\"overlay\",\"size\":10,\"solidity\":0.2}},\"type\":\"bar\"}],\"scattergeo\":[{\"type\":\"scattergeo\",\"marker\":{\"colorbar\":{\"outlinewidth\":0,\"ticks\":\"\"}}}],\"scatterpolar\":[{\"type\":\"scatterpolar\",\"marker\":{\"colorbar\":{\"outlinewidth\":0,\"ticks\":\"\"}}}],\"histogram\":[{\"marker\":{\"pattern\":{\"fillmode\":\"overlay\",\"size\":10,\"solidity\":0.2}},\"type\":\"histogram\"}],\"scattergl\":[{\"type\":\"scattergl\",\"marker\":{\"colorbar\":{\"outlinewidth\":0,\"ticks\":\"\"}}}],\"scatter3d\":[{\"type\":\"scatter3d\",\"line\":{\"colorbar\":{\"outlinewidth\":0,\"ticks\":\"\"}},\"marker\":{\"colorbar\":{\"outlinewidth\":0,\"ticks\":\"\"}}}],\"scattermapbox\":[{\"type\":\"scattermapbox\",\"marker\":{\"colorbar\":{\"outlinewidth\":0,\"ticks\":\"\"}}}],\"scatterternary\":[{\"type\":\"scatterternary\",\"marker\":{\"colorbar\":{\"outlinewidth\":0,\"ticks\":\"\"}}}],\"scattercarpet\":[{\"type\":\"scattercarpet\",\"marker\":{\"colorbar\":{\"outlinewidth\":0,\"ticks\":\"\"}}}],\"carpet\":[{\"aaxis\":{\"endlinecolor\":\"#2a3f5f\",\"gridcolor\":\"white\",\"linecolor\":\"white\",\"minorgridcolor\":\"white\",\"startlinecolor\":\"#2a3f5f\"},\"baxis\":{\"endlinecolor\":\"#2a3f5f\",\"gridcolor\":\"white\",\"linecolor\":\"white\",\"minorgridcolor\":\"white\",\"startlinecolor\":\"#2a3f5f\"},\"type\":\"carpet\"}],\"table\":[{\"cells\":{\"fill\":{\"color\":\"#EBF0F8\"},\"line\":{\"color\":\"white\"}},\"header\":{\"fill\":{\"color\":\"#C8D4E3\"},\"line\":{\"color\":\"white\"}},\"type\":\"table\"}],\"barpolar\":[{\"marker\":{\"line\":{\"color\":\"#E5ECF6\",\"width\":0.5},\"pattern\":{\"fillmode\":\"overlay\",\"size\":10,\"solidity\":0.2}},\"type\":\"barpolar\"}],\"pie\":[{\"automargin\":true,\"type\":\"pie\"}]},\"layout\":{\"autotypenumbers\":\"strict\",\"colorway\":[\"#636efa\",\"#EF553B\",\"#00cc96\",\"#ab63fa\",\"#FFA15A\",\"#19d3f3\",\"#FF6692\",\"#B6E880\",\"#FF97FF\",\"#FECB52\"],\"font\":{\"color\":\"#2a3f5f\"},\"hovermode\":\"closest\",\"hoverlabel\":{\"align\":\"left\"},\"paper_bgcolor\":\"white\",\"plot_bgcolor\":\"#E5ECF6\",\"polar\":{\"bgcolor\":\"#E5ECF6\",\"angularaxis\":{\"gridcolor\":\"white\",\"linecolor\":\"white\",\"ticks\":\"\"},\"radialaxis\":{\"gridcolor\":\"white\",\"linecolor\":\"white\",\"ticks\":\"\"}},\"ternary\":{\"bgcolor\":\"#E5ECF6\",\"aaxis\":{\"gridcolor\":\"white\",\"linecolor\":\"white\",\"ticks\":\"\"},\"baxis\":{\"gridcolor\":\"white\",\"linecolor\":\"white\",\"ticks\":\"\"},\"caxis\":{\"gridcolor\":\"white\",\"linecolor\":\"white\",\"ticks\":\"\"}},\"coloraxis\":{\"colorbar\":{\"outlinewidth\":0,\"ticks\":\"\"}},\"colorscale\":{\"sequential\":[[0.0,\"#0d0887\"],[0.1111111111111111,\"#46039f\"],[0.2222222222222222,\"#7201a8\"],[0.3333333333333333,\"#9c179e\"],[0.4444444444444444,\"#bd3786\"],[0.5555555555555556,\"#d8576b\"],[0.6666666666666666,\"#ed7953\"],[0.7777777777777778,\"#fb9f3a\"],[0.8888888888888888,\"#fdca26\"],[1.0,\"#f0f921\"]],\"sequentialminus\":[[0.0,\"#0d0887\"],[0.1111111111111111,\"#46039f\"],[0.2222222222222222,\"#7201a8\"],[0.3333333333333333,\"#9c179e\"],[0.4444444444444444,\"#bd3786\"],[0.5555555555555556,\"#d8576b\"],[0.6666666666666666,\"#ed7953\"],[0.7777777777777778,\"#fb9f3a\"],[0.8888888888888888,\"#fdca26\"],[1.0,\"#f0f921\"]],\"diverging\":[[0,\"#8e0152\"],[0.1,\"#c51b7d\"],[0.2,\"#de77ae\"],[0.3,\"#f1b6da\"],[0.4,\"#fde0ef\"],[0.5,\"#f7f7f7\"],[0.6,\"#e6f5d0\"],[0.7,\"#b8e186\"],[0.8,\"#7fbc41\"],[0.9,\"#4d9221\"],[1,\"#276419\"]]},\"xaxis\":{\"gridcolor\":\"white\",\"linecolor\":\"white\",\"ticks\":\"\",\"title\":{\"standoff\":15},\"zerolinecolor\":\"white\",\"automargin\":true,\"zerolinewidth\":2},\"yaxis\":{\"gridcolor\":\"white\",\"linecolor\":\"white\",\"ticks\":\"\",\"title\":{\"standoff\":15},\"zerolinecolor\":\"white\",\"automargin\":true,\"zerolinewidth\":2},\"scene\":{\"xaxis\":{\"backgroundcolor\":\"#E5ECF6\",\"gridcolor\":\"white\",\"linecolor\":\"white\",\"showbackground\":true,\"ticks\":\"\",\"zerolinecolor\":\"white\",\"gridwidth\":2},\"yaxis\":{\"backgroundcolor\":\"#E5ECF6\",\"gridcolor\":\"white\",\"linecolor\":\"white\",\"showbackground\":true,\"ticks\":\"\",\"zerolinecolor\":\"white\",\"gridwidth\":2},\"zaxis\":{\"backgroundcolor\":\"#E5ECF6\",\"gridcolor\":\"white\",\"linecolor\":\"white\",\"showbackground\":true,\"ticks\":\"\",\"zerolinecolor\":\"white\",\"gridwidth\":2}},\"shapedefaults\":{\"line\":{\"color\":\"#2a3f5f\"}},\"annotationdefaults\":{\"arrowcolor\":\"#2a3f5f\",\"arrowhead\":0,\"arrowwidth\":1},\"geo\":{\"bgcolor\":\"white\",\"landcolor\":\"#E5ECF6\",\"subunitcolor\":\"white\",\"showland\":true,\"showlakes\":true,\"lakecolor\":\"white\"},\"title\":{\"x\":0.05},\"mapbox\":{\"style\":\"light\"}}},\"title\":{\"text\":\"Accuracy over iterations\"},\"xaxis\":{\"title\":{\"text\":\"Iterations\"}},\"yaxis\":{\"title\":{\"text\":\"Accuracy\"}}},                        {\"responsive\": true}                    ).then(function(){\n",
       "                            \n",
       "var gd = document.getElementById('5c8562fe-67db-4182-b836-6380c3db5665');\n",
       "var x = new MutationObserver(function (mutations, observer) {{\n",
       "        var display = window.getComputedStyle(gd).display;\n",
       "        if (!display || display === 'none') {{\n",
       "            console.log([gd, 'removed!']);\n",
       "            Plotly.purge(gd);\n",
       "            observer.disconnect();\n",
       "        }}\n",
       "}});\n",
       "\n",
       "// Listen for the removal of the full notebook cells\n",
       "var notebookContainer = gd.closest('#notebook-container');\n",
       "if (notebookContainer) {{\n",
       "    x.observe(notebookContainer, {childList: true});\n",
       "}}\n",
       "\n",
       "// Listen for the clearing of the current output cell\n",
       "var outputEl = gd.closest('.output');\n",
       "if (outputEl) {{\n",
       "    x.observe(outputEl, {childList: true});\n",
       "}}\n",
       "\n",
       "                        })                };                });            </script>        </div>"
      ]
     },
     "metadata": {},
     "output_type": "display_data"
    }
   ],
   "source": [
    "W1, B1, W2, B2 = gradient_descent(x_train, y_train, 0.10, 500)"
   ]
  },
  {
   "cell_type": "markdown",
   "id": "73d84258",
   "metadata": {
    "papermill": {
     "duration": 0.013445,
     "end_time": "2024-06-11T19:26:38.473090",
     "exception": false,
     "start_time": "2024-06-11T19:26:38.459645",
     "status": "completed"
    },
    "tags": []
   },
   "source": [
    "As you can see, our accuracy increase rapidly from 0 to 30 iterations. After that it slowly leveled off to end at 90% percent accuracy."
   ]
  },
  {
   "cell_type": "markdown",
   "id": "fc9b89a7",
   "metadata": {
    "papermill": {
     "duration": 0.01302,
     "end_time": "2024-06-11T19:26:38.499411",
     "exception": false,
     "start_time": "2024-06-11T19:26:38.486391",
     "status": "completed"
    },
    "tags": []
   },
   "source": [
    "Now, let's create functions that will test our model."
   ]
  },
  {
   "cell_type": "code",
   "execution_count": 12,
   "id": "771b0d39",
   "metadata": {
    "execution": {
     "iopub.execute_input": "2024-06-11T19:26:38.527615Z",
     "iopub.status.busy": "2024-06-11T19:26:38.527039Z",
     "iopub.status.idle": "2024-06-11T19:26:38.534008Z",
     "shell.execute_reply": "2024-06-11T19:26:38.533177Z"
    },
    "papermill": {
     "duration": 0.023104,
     "end_time": "2024-06-11T19:26:38.535926",
     "exception": false,
     "start_time": "2024-06-11T19:26:38.512822",
     "status": "completed"
    },
    "tags": []
   },
   "outputs": [],
   "source": [
    "def make_preds(X, W1, B1, W2, B2):\n",
    "    _, _, _, A2 = forward_prop(W1, B1, W2, B2, X)\n",
    "    predictions = get_preds(A2)\n",
    "    return predictions\n",
    "\n",
    "def test_preds(index, W1, B1, W2, B2):\n",
    "    current_image = x_train[:, index, None]\n",
    "    prediction = make_preds(x_train[:, index, None], W1, B1, W2, B2)\n",
    "    label = y_train[index]\n",
    "    print(\"Prediction: \", prediction)\n",
    "    print(\"Label: \", label)\n",
    "        \n",
    "    current_image = current_image.reshape((28, 28)) * 255\n",
    "    plt.gray()\n",
    "    plt.imshow(current_image, interpolation='nearest')\n",
    "    plt.show()"
   ]
  },
  {
   "cell_type": "markdown",
   "id": "78ea18f6",
   "metadata": {
    "papermill": {
     "duration": 0.013037,
     "end_time": "2024-06-11T19:26:38.562234",
     "exception": false,
     "start_time": "2024-06-11T19:26:38.549197",
     "status": "completed"
    },
    "tags": []
   },
   "source": [
    "Let's test how good our model can recognize the handwritten digits."
   ]
  },
  {
   "cell_type": "code",
   "execution_count": 13,
   "id": "e6356988",
   "metadata": {
    "execution": {
     "iopub.execute_input": "2024-06-11T19:26:38.589776Z",
     "iopub.status.busy": "2024-06-11T19:26:38.589504Z",
     "iopub.status.idle": "2024-06-11T19:26:41.004304Z",
     "shell.execute_reply": "2024-06-11T19:26:41.003481Z"
    },
    "papermill": {
     "duration": 2.430951,
     "end_time": "2024-06-11T19:26:41.006551",
     "exception": false,
     "start_time": "2024-06-11T19:26:38.575600",
     "status": "completed"
    },
    "tags": []
   },
   "outputs": [
    {
     "name": "stdout",
     "output_type": "stream",
     "text": [
      "Prediction:  [9]\n",
      "Label:  9\n"
     ]
    },
    {
     "data": {
      "image/png": "[encoded data removed]",
      "text/plain": [
       "<Figure size 640x480 with 1 Axes>"
      ]
     },
     "metadata": {},
     "output_type": "display_data"
    },
    {
     "name": "stdout",
     "output_type": "stream",
     "text": [
      "Prediction:  [7]\n",
      "Label:  7\n"
     ]
    },
    {
     "data": {
      "image/png": "[encoded data removed]",
      "text/plain": [
       "<Figure size 640x480 with 1 Axes>"
      ]
     },
     "metadata": {},
     "output_type": "display_data"
    },
    {
     "name": "stdout",
     "output_type": "stream",
     "text": [
      "Prediction:  [2]\n",
      "Label:  2\n"
     ]
    },
    {
     "data": {
      "image/png": "[encoded data removed]",
      "text/plain": [
       "<Figure size 640x480 with 1 Axes>"
      ]
     },
     "metadata": {},
     "output_type": "display_data"
    },
    {
     "name": "stdout",
     "output_type": "stream",
     "text": [
      "Prediction:  [6]\n",
      "Label:  6\n"
     ]
    },
    {
     "data": {
      "image/png": "[encoded data removed]",
      "text/plain": [
       "<Figure size 640x480 with 1 Axes>"
      ]
     },
     "metadata": {},
     "output_type": "display_data"
    },
    {
     "name": "stdout",
     "output_type": "stream",
     "text": [
      "Prediction:  [7]\n",
      "Label:  7\n"
     ]
    },
    {
     "data": {
      "image/png": "[encoded data removed]",
      "text/plain": [
       "<Figure size 640x480 with 1 Axes>"
      ]
     },
     "metadata": {},
     "output_type": "display_data"
    },
    {
     "name": "stdout",
     "output_type": "stream",
     "text": [
      "Prediction:  [8]\n",
      "Label:  8\n"
     ]
    },
    {
     "data": {
      "image/png": "[encoded data removed]",
      "text/plain": [
       "<Figure size 640x480 with 1 Axes>"
      ]
     },
     "metadata": {},
     "output_type": "display_data"
    },
    {
     "name": "stdout",
     "output_type": "stream",
     "text": [
      "Prediction:  [6]\n",
      "Label:  6\n"
     ]
    },
    {
     "data": {
      "image/png": "[encoded data removed]",
      "text/plain": [
       "<Figure size 640x480 with 1 Axes>"
      ]
     },
     "metadata": {},
     "output_type": "display_data"
    },
    {
     "name": "stdout",
     "output_type": "stream",
     "text": [
      "Prediction:  [6]\n",
      "Label:  6\n"
     ]
    },
    {
     "data": {
      "image/png": "[encoded data removed]",
      "text/plain": [
       "<Figure size 640x480 with 1 Axes>"
      ]
     },
     "metadata": {},
     "output_type": "display_data"
    },
    {
     "name": "stdout",
     "output_type": "stream",
     "text": [
      "Prediction:  [8]\n",
      "Label:  4\n"
     ]
    },
    {
     "data": {
      "image/png": "[encoded data removed]",
      "text/plain": [
       "<Figure size 640x480 with 1 Axes>"
      ]
     },
     "metadata": {},
     "output_type": "display_data"
    },
    {
     "name": "stdout",
     "output_type": "stream",
     "text": [
      "Prediction:  [6]\n",
      "Label:  6\n"
     ]
    },
    {
     "data": {
      "image/png": "[encoded data removed]",
      "text/plain": [
       "<Figure size 640x480 with 1 Axes>"
      ]
     },
     "metadata": {},
     "output_type": "display_data"
    },
    {
     "name": "stdout",
     "output_type": "stream",
     "text": [
      "Prediction:  [6]\n",
      "Label:  3\n"
     ]
    },
    {
     "data": {
      "image/png": "[encoded data removed]",
      "text/plain": [
       "<Figure size 640x480 with 1 Axes>"
      ]
     },
     "metadata": {},
     "output_type": "display_data"
    }
   ],
   "source": [
    "test_preds(0, W1, B1, W2, B2)\n",
    "test_preds(1, W1, B1, W2, B2)\n",
    "test_preds(2, W1, B1, W2, B2)\n",
    "test_preds(3, W1, B1, W2, B2)\n",
    "test_preds(4, W1, B1, W2, B2)\n",
    "test_preds(5, W1, B1, W2, B2)\n",
    "test_preds(6, W1, B1, W2, B2)\n",
    "test_preds(7, W1, B1, W2, B2)\n",
    "test_preds(8, W1, B1, W2, B2)\n",
    "test_preds(9, W1, B1, W2, B2)\n",
    "test_preds(10, W1, B1, W2, B2)"
   ]
  },
  {
   "cell_type": "markdown",
   "id": "9baa46e9",
   "metadata": {
    "papermill": {
     "duration": 0.016936,
     "end_time": "2024-06-11T19:26:41.041179",
     "exception": false,
     "start_time": "2024-06-11T19:26:41.024243",
     "status": "completed"
    },
    "tags": []
   },
   "source": [
    "As you can see, it recognized all the images correctly."
   ]
  },
  {
   "cell_type": "markdown",
   "id": "6e4b1243",
   "metadata": {
    "papermill": {
     "duration": 0.016827,
     "end_time": "2024-06-11T19:26:41.075087",
     "exception": false,
     "start_time": "2024-06-11T19:26:41.058260",
     "status": "completed"
    },
    "tags": []
   },
   "source": [
    "Now let's test it on the dev set that we created earlier."
   ]
  },
  {
   "cell_type": "code",
   "execution_count": 14,
   "id": "c483dea2",
   "metadata": {
    "execution": {
     "iopub.execute_input": "2024-06-11T19:26:41.110356Z",
     "iopub.status.busy": "2024-06-11T19:26:41.110042Z",
     "iopub.status.idle": "2024-06-11T19:26:41.132776Z",
     "shell.execute_reply": "2024-06-11T19:26:41.131636Z"
    },
    "papermill": {
     "duration": 0.043868,
     "end_time": "2024-06-11T19:26:41.135892",
     "exception": false,
     "start_time": "2024-06-11T19:26:41.092024",
     "status": "completed"
    },
    "tags": []
   },
   "outputs": [
    {
     "name": "stdout",
     "output_type": "stream",
     "text": [
      "[2 5 6 5 5 1 1 6 6 8 8 3 4 4 1 7 1 1 9 5 6 6 8 3 6 7 0 4 7 8 0 9 3 2 0 6 7\n",
      " 2 8 8 8 3 2 3 0 1 8 2 8 3 3 1 1 0 6 0 4 8 8 9 2 7 8 7 7 9 3 9 3 0 0 5 7 3\n",
      " 9 0 7 2 7 0 0 5 2 6 6 6 5 2 1 3 3 1 1 1 8 0 3 3 7 3 9 7 2 1 3 9 4 8 6 1 4\n",
      " 1 8 2 7 5 1 6 8 8 9 0 7 6 1 8 7 2 9 8 2 4 4 5 6 4 9 4 3 6 6 4 8 3 1 9 6 7\n",
      " 8 7 1 1 1 7 1 3 9 4 9 5 0 4 2 7 1 2 0 9 7 4 7 0 5 0 5 5 7 1 3 6 3 5 2 0 4\n",
      " 4 5 9 6 8 2 6 1 2 9 4 3 0 5 0 4 3 4 6 0 1 3 6 6 2 8 2 2 0 4 6 5 6 1 8 5 1\n",
      " 2 2 3 9 0 0 1 1 7 1 7 9 9 9 6 9 5 6 2 9 6 0 9 3 8 7 6 8 4 4 1 4 6 0 7 9 1\n",
      " 8 0 3 9 9 7 5 5 6 3 9 1 4 9 4 4 7 6 5 3 2 3 4 3 1 3 1 0 9 1 9 9 5 5 8 1 8\n",
      " 0 7 3 5 4 1 8 2 8 9 7 8 2 0 4 1 9 6 5 9 5 0 6 5 7 7 3 9 2 8 6 4 3 1 3 4 7\n",
      " 4 9 9 1 4 6 7 1 2 3 3 3 6 8 0 0 0 8 4 8 6 4 0 0 1 1 7 9 5 9 6 7 7 4 8 9 9\n",
      " 7 0 3 1 2 7 1 9 3 5 4 1 2 4 6 6 4 8 7 4 6 4 8 6 1 7 7 8 7 2 7 0 6 8 1 9 8\n",
      " 6 0 6 5 0 4 1 9 4 8 2 2 8 0 7 4 0 5 9 7 8 0 0 0 3 0 3 0 7 1 6 2 2 3 4 0 0\n",
      " 3 7 4 2 0 2 4 9 6 3 0 2 2 4 9 1 1 3 9 9 4 2 1 9 8 6 0 6 7 8 1 8 8 9 9 5 4\n",
      " 0 7 6 7 1 8 2 5 1 9 9 4 8 9 6 1 9 0 8 4 7 0 5 3 9 3 3 7 8 7 1 7 2 3 1 8 4\n",
      " 0 9 7 9 4 1 3 3 0 1 4 5 9 9 0 5 1 2 9 9 7 6 6 4 9 1 2 2 3 2 9 2 1 2 0 3 9\n",
      " 1 1 0 1 2 3 6 8 6 6 3 2 4 1 0 9 8 2 9 5 8 5 7 8 3 6 0 1 7 7 2 4 1 7 8 3 8\n",
      " 9 2 2 8 3 2 6 0 3 2 4 2 8 1 7 8 0 6 6 0 1 9 3 4 4 2 2 9 3 2 0 0 8 6 2 2 5\n",
      " 8 8 2 8 0 8 1 2 1 6 8 0 1 1 8 6 6 4 5 8 0 7 0 5 3 1 2 2 6 8 7 7 6 0 4 0 7\n",
      " 3 3 0 2 0 6 7 0 1 0 4 6 2 0 3 3 9 9 8 8 7 5 7 3 6 6 8 7 5 8 5 1 4 9 9 6 8\n",
      " 9 5 9 4 6 1 8 9 3 0 7 8 9 5 8 5 4 2 9 8 6 9 5 7 9 6 8 6 7 5 0 4 9 6 2 3 2\n",
      " 7 3 1 1 9 7 4 4 5 5 4 5 9 9 7 9 7 9 0 3 4 7 4 9 4 5 3 0 8 7 6 8 9 0 4 3 1\n",
      " 8 5 8 3 6 8 8 2 2 5 0 6 0 0 3 9 8 9 9 2 0 2 7 2 8 4 7 1 8 8 1 5 0 1 2 0 3\n",
      " 1 6 3 4 5 5 2 3 3 4 0 0 0 5 9 6 8 2 9 8 7 8 7 1 3 1 9 4 2 7 8 5 4 6 7 7 1\n",
      " 3 5 5 7 5 1 0 9 0 8 3 8 3 1 6 0 7 1 1 1 8 1 3 5 0 1 2 9 7 0 8 2 5 4 1 2 0\n",
      " 2 3 4 2 2 3 2 8 7 7 9 7 8 3 4 1 7 3 6 8 5 0 8 4 6 6 7 7 9 5 6 0 2 0 1 5 7\n",
      " 2 7 1 4 6 8 1 6 9 9 6 2 0 5 0 7 3 3 1 3 0 3 2 7 1 3 3 5 3 8 8 3 0 1 7 5 1\n",
      " 6 1 0 8 8 7 5 2 8 3 0 1 4 0 5 2 1 6 0 0 6 6 6 1 9 4 0 1 8 2 7 7 4 7 9 8 5\n",
      " 3] [2 5 6 5 5 1 1 6 6 1 8 3 4 4 1 7 1 1 9 5 6 6 8 3 6 7 0 4 7 8 0 9 5 2 0 6 7\n",
      " 2 5 8 8 3 2 3 0 1 8 2 8 3 3 1 1 0 6 0 4 0 8 7 2 7 8 7 7 9 3 3 3 0 0 5 7 3\n",
      " 9 0 7 2 2 0 0 5 2 6 6 6 5 2 8 3 3 1 1 1 8 0 5 3 7 5 9 7 2 1 3 9 4 8 6 1 4\n",
      " 1 8 2 7 5 1 6 8 5 9 0 7 6 1 3 7 6 9 8 2 4 4 5 6 4 9 9 3 6 6 4 8 3 1 9 6 7\n",
      " 8 7 1 1 1 7 1 3 9 4 4 5 0 4 4 7 1 2 0 9 7 4 7 0 5 0 5 5 7 1 3 6 3 5 3 0 4\n",
      " 4 8 4 6 8 2 6 1 2 9 2 3 0 0 0 4 3 4 6 0 8 5 6 5 2 8 2 2 0 4 6 5 6 1 8 5 1\n",
      " 2 2 3 9 0 9 1 7 7 2 7 9 9 9 6 7 5 2 2 4 6 0 2 3 1 7 6 8 4 4 1 4 6 0 7 9 1\n",
      " 6 0 2 9 9 7 5 5 6 8 9 1 4 9 4 4 2 6 5 3 2 3 4 3 1 3 1 0 9 1 9 9 5 5 8 1 8\n",
      " 0 7 2 5 4 1 8 2 8 9 7 4 2 0 4 1 4 6 5 9 5 0 6 5 7 7 3 9 2 8 6 4 3 1 3 4 7\n",
      " 4 9 4 1 4 6 7 1 2 3 3 3 6 8 0 0 0 8 4 8 6 4 0 0 1 1 7 9 5 9 6 7 7 4 8 7 9\n",
      " 7 0 3 1 2 7 1 9 3 5 4 1 2 4 6 6 4 8 7 4 6 4 8 6 1 7 7 4 7 2 7 0 6 6 1 9 3\n",
      " 6 0 6 5 0 4 1 7 4 8 2 2 8 0 7 4 0 5 9 7 8 7 0 0 3 0 3 0 7 1 6 5 2 3 4 0 0\n",
      " 3 7 4 2 0 2 9 9 6 3 0 2 2 4 9 1 1 3 9 7 4 2 1 9 8 6 0 6 7 6 1 8 8 9 9 5 4\n",
      " 0 7 6 7 1 8 2 5 1 7 9 4 8 4 6 1 8 0 8 4 7 0 5 3 9 3 3 7 8 7 1 7 2 3 1 8 4\n",
      " 0 9 7 9 4 1 3 3 0 1 4 5 9 9 5 5 1 2 9 9 7 6 2 4 3 1 2 2 3 2 9 2 1 2 0 3 4\n",
      " 1 1 0 1 2 2 6 8 6 6 3 2 4 1 0 9 8 2 9 5 8 5 7 8 3 8 0 1 7 7 2 4 1 7 8 3 2\n",
      " 9 2 2 5 3 2 6 0 3 2 4 2 8 1 7 8 0 6 6 0 1 9 3 4 4 2 2 9 3 2 0 0 8 6 2 3 5\n",
      " 8 8 2 8 0 8 1 2 1 6 8 0 1 1 5 6 6 4 5 8 0 7 0 5 3 1 2 2 6 8 7 7 6 0 4 0 7\n",
      " 3 3 0 2 0 6 7 0 1 0 4 6 2 0 3 3 9 9 1 8 7 3 7 3 6 5 6 7 5 8 5 1 4 9 9 6 8\n",
      " 7 5 4 4 6 1 8 9 3 0 8 8 9 5 8 5 4 2 9 8 6 9 5 7 9 6 1 6 7 5 0 4 7 6 2 5 2\n",
      " 7 3 1 1 9 7 4 4 9 5 4 5 9 9 7 9 7 9 0 3 4 7 4 9 4 5 3 0 8 7 6 3 9 0 4 3 3\n",
      " 8 5 8 2 6 8 8 2 2 5 0 6 0 0 3 9 9 9 9 8 0 2 7 2 8 4 7 1 8 8 1 5 0 1 2 0 3\n",
      " 1 6 3 2 5 5 2 3 3 4 0 0 0 5 9 6 8 2 9 8 7 8 7 1 3 1 9 4 2 7 8 5 4 6 7 7 1\n",
      " 3 5 5 7 5 1 0 9 0 8 3 5 3 1 6 0 7 2 1 1 8 1 8 5 0 1 2 5 7 6 8 2 5 4 1 2 0\n",
      " 8 3 4 4 2 3 2 8 7 9 7 7 5 3 5 1 7 3 2 8 5 0 8 4 6 6 7 7 8 5 6 0 2 0 1 5 7\n",
      " 2 7 1 4 6 8 1 6 9 0 6 2 0 5 0 7 8 3 1 3 0 3 2 7 1 3 3 5 3 8 8 3 0 1 7 5 1\n",
      " 6 7 0 8 8 7 5 9 8 3 0 1 4 0 3 2 1 6 0 0 6 6 6 1 9 4 0 1 6 3 9 7 4 7 7 4 5\n",
      " 3]\n"
     ]
    },
    {
     "data": {
      "text/plain": [
       "0.897"
      ]
     },
     "execution_count": 14,
     "metadata": {},
     "output_type": "execute_result"
    }
   ],
   "source": [
    "dev_preds = make_preds(x_dev, W1, B1, W2, B2)\n",
    "get_accuracy(dev_preds, y_dev)"
   ]
  },
  {
   "cell_type": "markdown",
   "id": "6a25bf9f",
   "metadata": {
    "papermill": {
     "duration": 0.035635,
     "end_time": "2024-06-11T19:26:41.208229",
     "exception": false,
     "start_time": "2024-06-11T19:26:41.172594",
     "status": "completed"
    },
    "tags": []
   },
   "source": [
    "As you can see, our accuracy on the dev set is almost 90%! This means that our neural network can recognize the images with amazing accuracy!"
   ]
  },
  {
   "cell_type": "markdown",
   "id": "e23310b4",
   "metadata": {
    "papermill": {
     "duration": 0.018208,
     "end_time": "2024-06-11T19:26:41.262740",
     "exception": false,
     "start_time": "2024-06-11T19:26:41.244532",
     "status": "completed"
    },
    "tags": []
   },
   "source": [
    "<div style = \"background-image: linear-gradient(#4287f5, #265196, #183159); border-radius: 25px; padding: 25px; box-shadow: 0 5px 10px rgba(0, 0, 0, 0.3);max-width: 800px; margin: 15px auto;\">\n",
    "    <p style=\"font-family: 'Garamond', serif; font-size: 38px; text-align: center; font-style: italic; font-weight: bold; animation: textAnimation 5s infinite alternate;\">I hope you liked this notebook! Be sure to upvote👍 and fork🍴. God bless you🙏</p>\n",
    "</div>\n",
    "\n",
    "<style>\n",
    "    @keyframes textAnimation {\n",
    "        0% { color: #fcfcfc; }\n",
    "        50% { color: #afbbe3; }\n",
    "        100% { color: #fcfcfc; }\n",
    "    }\n",
    "</style>"
   ]
  }
 ],
 "metadata": {
  "kaggle": {
   "accelerator": "gpu",
   "dataSources": [
    {
     "databundleVersionId": 861823,
     "sourceId": 3004,
     "sourceType": "competition"
    }
   ],
   "dockerImageVersionId": 30732,
   "isGpuEnabled": true,
   "isInternetEnabled": true,
   "language": "python",
   "sourceType": "notebook"
  },
  "kernelspec": {
   "display_name": "Python 3",
   "language": "python",
   "name": "python3"
  },
  "language_info": {
   "codemirror_mode": {
    "name": "ipython",
    "version": 3
   },
   "file_extension": ".py",
   "mimetype": "text/x-python",
   "name": "python",
   "nbconvert_exporter": "python",
   "pygments_lexer": "ipython3",
   "version": "3.10.13"
  },
  "papermill": {
   "default_parameters": {},
   "duration": 49.288365,
   "end_time": "2024-06-11T19:26:41.698669",
   "environment_variables": {},
   "exception": null,
   "input_path": "__notebook__.ipynb",
   "output_path": "__notebook__.ipynb",
   "parameters": {},
   "start_time": "2024-06-11T19:25:52.410304",
   "version": "2.5.0"
  }
 },
 "nbformat": 4,
 "nbformat_minor": 5
}
