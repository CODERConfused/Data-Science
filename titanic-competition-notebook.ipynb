{
 "cells": [
  {
   "cell_type": "code",
   "execution_count": 1,
   "id": "1ae35108",
   "metadata": {
    "_cell_guid": "b1076dfc-b9ad-4769-8c92-a6c4dae69d19",
    "_uuid": "8f2839f25d086af736a60e9eeb907d3b93b6e0e5",
    "execution": {
     "iopub.execute_input": "2023-12-31T17:13:03.388872Z",
     "iopub.status.busy": "2023-12-31T17:13:03.388203Z",
     "iopub.status.idle": "2023-12-31T17:13:06.029464Z",
     "shell.execute_reply": "2023-12-31T17:13:06.028188Z"
    },
    "papermill": {
     "duration": 2.652554,
     "end_time": "2023-12-31T17:13:06.033292",
     "exception": false,
     "start_time": "2023-12-31T17:13:03.380738",
     "status": "completed"
    },
    "tags": []
   },
   "outputs": [
    {
     "name": "stdout",
     "output_type": "stream",
     "text": [
      "/kaggle/input/train-csv/train.csv\n",
      "/kaggle/input/test-csv/test.csv\n"
     ]
    }
   ],
   "source": [
    "# This Python 3 environment comes with many helpful analytics libraries installed\n",
    "# It is defined by the kaggle/python Docker image: https://github.com/kaggle/docker-python\n",
    "# For example, here's several helpful packages to load\n",
    "\n",
    "import csv\n",
    "import numpy as np # linear algebra\n",
    "import pandas as pd # data processing, CSV file I/O (e.g. pd.read_csv)\n",
    "import seaborn as sns\n",
    "import matplotlib.pyplot as plt\n",
    "\n",
    "# Input data files are available in the read-only \"../input/\" directory\n",
    "# For example, running this (by clicking run or pressing Shift+Enter) will list all files under the input directory\n",
    "\n",
    "import os\n",
    "for dirname, _, filenames in os.walk('/kaggle/input'):\n",
    "    for filename in filenames:\n",
    "        print(os.path.join(dirname, filename))\n",
    "\n",
    "# You can write up to 20GB to the current directory (/kaggle/working/) that gets preserved as output when you create a version using \"Save & Run All\" \n",
    "# You can also write temporary files to /kaggle/temp/, but they won't be saved outside of the current session\n"
   ]
  },
  {
   "cell_type": "code",
   "execution_count": 2,
   "id": "95e1870b",
   "metadata": {
    "execution": {
     "iopub.execute_input": "2023-12-31T17:13:06.046859Z",
     "iopub.status.busy": "2023-12-31T17:13:06.045950Z",
     "iopub.status.idle": "2023-12-31T17:13:06.111280Z",
     "shell.execute_reply": "2023-12-31T17:13:06.110020Z"
    },
    "papermill": {
     "duration": 0.074817,
     "end_time": "2023-12-31T17:13:06.114114",
     "exception": false,
     "start_time": "2023-12-31T17:13:06.039297",
     "status": "completed"
    },
    "tags": []
   },
   "outputs": [],
   "source": [
    "import pandas as pd\n",
    "\n",
    "data = pd.read_csv('/kaggle/input/train-csv/train.csv')\n",
    "test = pd.read_csv('/kaggle/input/test-csv/test.csv')\n",
    "test_ids = test[\"PassengerId\"]\n",
    "\n",
    "def clean(data):\n",
    "    data = data.drop([\"Ticket\", \"Cabin\", \"Name\", \"PassengerId\",], axis = 1)\n",
    "    \n",
    "    cols = [\"SibSp\", \"Parch\", \"Fare\", \"Age\"]\n",
    "    for col in cols:\n",
    "        data[col].fillna(data[col].median(), inplace = True)\n",
    "\n",
    "    data.Embarked.fillna(\"U\", inplace = True)\n",
    "    return data\n",
    "\n",
    "data = clean(data)\n",
    "test = clean(test)\n"
   ]
  },
  {
   "cell_type": "code",
   "execution_count": 3,
   "id": "7553baa5",
   "metadata": {
    "execution": {
     "iopub.execute_input": "2023-12-31T17:13:06.125773Z",
     "iopub.status.busy": "2023-12-31T17:13:06.125175Z",
     "iopub.status.idle": "2023-12-31T17:13:06.146118Z",
     "shell.execute_reply": "2023-12-31T17:13:06.144751Z"
    },
    "papermill": {
     "duration": 0.030252,
     "end_time": "2023-12-31T17:13:06.149087",
     "exception": false,
     "start_time": "2023-12-31T17:13:06.118835",
     "status": "completed"
    },
    "tags": []
   },
   "outputs": [
    {
     "data": {
      "text/html": [
       "<div>\n",
       "<style scoped>\n",
       "    .dataframe tbody tr th:only-of-type {\n",
       "        vertical-align: middle;\n",
       "    }\n",
       "\n",
       "    .dataframe tbody tr th {\n",
       "        vertical-align: top;\n",
       "    }\n",
       "\n",
       "    .dataframe thead th {\n",
       "        text-align: right;\n",
       "    }\n",
       "</style>\n",
       "<table border=\"1\" class=\"dataframe\">\n",
       "  <thead>\n",
       "    <tr style=\"text-align: right;\">\n",
       "      <th></th>\n",
       "      <th>Survived</th>\n",
       "      <th>Pclass</th>\n",
       "      <th>Sex</th>\n",
       "      <th>Age</th>\n",
       "      <th>SibSp</th>\n",
       "      <th>Parch</th>\n",
       "      <th>Fare</th>\n",
       "      <th>Embarked</th>\n",
       "    </tr>\n",
       "  </thead>\n",
       "  <tbody>\n",
       "    <tr>\n",
       "      <th>0</th>\n",
       "      <td>0</td>\n",
       "      <td>3</td>\n",
       "      <td>male</td>\n",
       "      <td>22.0</td>\n",
       "      <td>1</td>\n",
       "      <td>0</td>\n",
       "      <td>7.2500</td>\n",
       "      <td>S</td>\n",
       "    </tr>\n",
       "    <tr>\n",
       "      <th>1</th>\n",
       "      <td>1</td>\n",
       "      <td>1</td>\n",
       "      <td>female</td>\n",
       "      <td>38.0</td>\n",
       "      <td>1</td>\n",
       "      <td>0</td>\n",
       "      <td>71.2833</td>\n",
       "      <td>C</td>\n",
       "    </tr>\n",
       "    <tr>\n",
       "      <th>2</th>\n",
       "      <td>1</td>\n",
       "      <td>3</td>\n",
       "      <td>female</td>\n",
       "      <td>26.0</td>\n",
       "      <td>0</td>\n",
       "      <td>0</td>\n",
       "      <td>7.9250</td>\n",
       "      <td>S</td>\n",
       "    </tr>\n",
       "    <tr>\n",
       "      <th>3</th>\n",
       "      <td>1</td>\n",
       "      <td>1</td>\n",
       "      <td>female</td>\n",
       "      <td>35.0</td>\n",
       "      <td>1</td>\n",
       "      <td>0</td>\n",
       "      <td>53.1000</td>\n",
       "      <td>S</td>\n",
       "    </tr>\n",
       "    <tr>\n",
       "      <th>4</th>\n",
       "      <td>0</td>\n",
       "      <td>3</td>\n",
       "      <td>male</td>\n",
       "      <td>35.0</td>\n",
       "      <td>0</td>\n",
       "      <td>0</td>\n",
       "      <td>8.0500</td>\n",
       "      <td>S</td>\n",
       "    </tr>\n",
       "  </tbody>\n",
       "</table>\n",
       "</div>"
      ],
      "text/plain": [
       "   Survived  Pclass     Sex   Age  SibSp  Parch     Fare Embarked\n",
       "0         0       3    male  22.0      1      0   7.2500        S\n",
       "1         1       1  female  38.0      1      0  71.2833        C\n",
       "2         1       3  female  26.0      0      0   7.9250        S\n",
       "3         1       1  female  35.0      1      0  53.1000        S\n",
       "4         0       3    male  35.0      0      0   8.0500        S"
      ]
     },
     "execution_count": 3,
     "metadata": {},
     "output_type": "execute_result"
    }
   ],
   "source": [
    "data.head(5)"
   ]
  },
  {
   "cell_type": "code",
   "execution_count": 4,
   "id": "a1bfeaa0",
   "metadata": {
    "execution": {
     "iopub.execute_input": "2023-12-31T17:13:06.162225Z",
     "iopub.status.busy": "2023-12-31T17:13:06.161774Z",
     "iopub.status.idle": "2023-12-31T17:13:06.456580Z",
     "shell.execute_reply": "2023-12-31T17:13:06.455263Z"
    },
    "papermill": {
     "duration": 0.307764,
     "end_time": "2023-12-31T17:13:06.462188",
     "exception": false,
     "start_time": "2023-12-31T17:13:06.154424",
     "status": "completed"
    },
    "tags": []
   },
   "outputs": [
    {
     "name": "stdout",
     "output_type": "stream",
     "text": [
      "['female' 'male']\n",
      "['C' 'Q' 'S' 'U']\n"
     ]
    },
    {
     "data": {
      "text/html": [
       "<div>\n",
       "<style scoped>\n",
       "    .dataframe tbody tr th:only-of-type {\n",
       "        vertical-align: middle;\n",
       "    }\n",
       "\n",
       "    .dataframe tbody tr th {\n",
       "        vertical-align: top;\n",
       "    }\n",
       "\n",
       "    .dataframe thead th {\n",
       "        text-align: right;\n",
       "    }\n",
       "</style>\n",
       "<table border=\"1\" class=\"dataframe\">\n",
       "  <thead>\n",
       "    <tr style=\"text-align: right;\">\n",
       "      <th></th>\n",
       "      <th>Survived</th>\n",
       "      <th>Pclass</th>\n",
       "      <th>Sex</th>\n",
       "      <th>Age</th>\n",
       "      <th>SibSp</th>\n",
       "      <th>Parch</th>\n",
       "      <th>Fare</th>\n",
       "      <th>Embarked</th>\n",
       "    </tr>\n",
       "  </thead>\n",
       "  <tbody>\n",
       "    <tr>\n",
       "      <th>0</th>\n",
       "      <td>0</td>\n",
       "      <td>3</td>\n",
       "      <td>1</td>\n",
       "      <td>22.0</td>\n",
       "      <td>1</td>\n",
       "      <td>0</td>\n",
       "      <td>7.2500</td>\n",
       "      <td>2</td>\n",
       "    </tr>\n",
       "    <tr>\n",
       "      <th>1</th>\n",
       "      <td>1</td>\n",
       "      <td>1</td>\n",
       "      <td>0</td>\n",
       "      <td>38.0</td>\n",
       "      <td>1</td>\n",
       "      <td>0</td>\n",
       "      <td>71.2833</td>\n",
       "      <td>0</td>\n",
       "    </tr>\n",
       "    <tr>\n",
       "      <th>2</th>\n",
       "      <td>1</td>\n",
       "      <td>3</td>\n",
       "      <td>0</td>\n",
       "      <td>26.0</td>\n",
       "      <td>0</td>\n",
       "      <td>0</td>\n",
       "      <td>7.9250</td>\n",
       "      <td>2</td>\n",
       "    </tr>\n",
       "    <tr>\n",
       "      <th>3</th>\n",
       "      <td>1</td>\n",
       "      <td>1</td>\n",
       "      <td>0</td>\n",
       "      <td>35.0</td>\n",
       "      <td>1</td>\n",
       "      <td>0</td>\n",
       "      <td>53.1000</td>\n",
       "      <td>2</td>\n",
       "    </tr>\n",
       "    <tr>\n",
       "      <th>4</th>\n",
       "      <td>0</td>\n",
       "      <td>3</td>\n",
       "      <td>1</td>\n",
       "      <td>35.0</td>\n",
       "      <td>0</td>\n",
       "      <td>0</td>\n",
       "      <td>8.0500</td>\n",
       "      <td>2</td>\n",
       "    </tr>\n",
       "  </tbody>\n",
       "</table>\n",
       "</div>"
      ],
      "text/plain": [
       "   Survived  Pclass  Sex   Age  SibSp  Parch     Fare  Embarked\n",
       "0         0       3    1  22.0      1      0   7.2500         2\n",
       "1         1       1    0  38.0      1      0  71.2833         0\n",
       "2         1       3    0  26.0      0      0   7.9250         2\n",
       "3         1       1    0  35.0      1      0  53.1000         2\n",
       "4         0       3    1  35.0      0      0   8.0500         2"
      ]
     },
     "execution_count": 4,
     "metadata": {},
     "output_type": "execute_result"
    }
   ],
   "source": [
    "from sklearn import preprocessing\n",
    "le = preprocessing.LabelEncoder()\n",
    "\n",
    "cols = [\"Sex\", \"Embarked\"]\n",
    "\n",
    "for col in cols:\n",
    "    data[col] = le.fit_transform(data[col])\n",
    "    test[col] = le.transform(test[col])\n",
    "    print(le.classes_)\n",
    "    \n",
    "data.head(5)"
   ]
  },
  {
   "cell_type": "code",
   "execution_count": 5,
   "id": "ed0c97f4",
   "metadata": {
    "execution": {
     "iopub.execute_input": "2023-12-31T17:13:06.479009Z",
     "iopub.status.busy": "2023-12-31T17:13:06.478316Z",
     "iopub.status.idle": "2023-12-31T17:13:06.752916Z",
     "shell.execute_reply": "2023-12-31T17:13:06.751831Z"
    },
    "papermill": {
     "duration": 0.285688,
     "end_time": "2023-12-31T17:13:06.756051",
     "exception": false,
     "start_time": "2023-12-31T17:13:06.470363",
     "status": "completed"
    },
    "tags": []
   },
   "outputs": [],
   "source": [
    "from sklearn.linear_model import LogisticRegression\n",
    "from sklearn.model_selection import train_test_split\n",
    "\n",
    "y = data[\"Survived\"]\n",
    "x = data.drop(\"Survived\", axis = 1)\n",
    "\n",
    "x_train, x_val, y_train, y_val = train_test_split(x, y, test_size = 0.2, random_state = 42)\n"
   ]
  },
  {
   "cell_type": "code",
   "execution_count": 6,
   "id": "312c5edc",
   "metadata": {
    "execution": {
     "iopub.execute_input": "2023-12-31T17:13:06.769723Z",
     "iopub.status.busy": "2023-12-31T17:13:06.769057Z",
     "iopub.status.idle": "2023-12-31T17:13:06.808013Z",
     "shell.execute_reply": "2023-12-31T17:13:06.806563Z"
    },
    "papermill": {
     "duration": 0.049626,
     "end_time": "2023-12-31T17:13:06.811400",
     "exception": false,
     "start_time": "2023-12-31T17:13:06.761774",
     "status": "completed"
    },
    "tags": []
   },
   "outputs": [],
   "source": [
    "clf = LogisticRegression(random_state = 0, max_iter = 1000).fit(x_train, y_train)"
   ]
  },
  {
   "cell_type": "code",
   "execution_count": 7,
   "id": "c898b9dd",
   "metadata": {
    "execution": {
     "iopub.execute_input": "2023-12-31T17:13:06.825692Z",
     "iopub.status.busy": "2023-12-31T17:13:06.825259Z",
     "iopub.status.idle": "2023-12-31T17:13:06.839958Z",
     "shell.execute_reply": "2023-12-31T17:13:06.838900Z"
    },
    "papermill": {
     "duration": 0.025396,
     "end_time": "2023-12-31T17:13:06.843094",
     "exception": false,
     "start_time": "2023-12-31T17:13:06.817698",
     "status": "completed"
    },
    "tags": []
   },
   "outputs": [
    {
     "data": {
      "text/plain": [
       "0.8100558659217877"
      ]
     },
     "execution_count": 7,
     "metadata": {},
     "output_type": "execute_result"
    }
   ],
   "source": [
    "predictions = clf.predict(x_val)\n",
    "from sklearn.metrics import accuracy_score\n",
    "accuracy_score(y_val, predictions)"
   ]
  },
  {
   "cell_type": "code",
   "execution_count": 8,
   "id": "9d94aa8d",
   "metadata": {
    "execution": {
     "iopub.execute_input": "2023-12-31T17:13:06.860779Z",
     "iopub.status.busy": "2023-12-31T17:13:06.859882Z",
     "iopub.status.idle": "2023-12-31T17:13:06.869689Z",
     "shell.execute_reply": "2023-12-31T17:13:06.868060Z"
    },
    "papermill": {
     "duration": 0.022987,
     "end_time": "2023-12-31T17:13:06.874420",
     "exception": false,
     "start_time": "2023-12-31T17:13:06.851433",
     "status": "completed"
    },
    "tags": []
   },
   "outputs": [],
   "source": [
    "submission_preds = clf.predict(test)"
   ]
  },
  {
   "cell_type": "code",
   "execution_count": 9,
   "id": "26a4d90e",
   "metadata": {
    "execution": {
     "iopub.execute_input": "2023-12-31T17:13:06.889829Z",
     "iopub.status.busy": "2023-12-31T17:13:06.888930Z",
     "iopub.status.idle": "2023-12-31T17:13:06.894963Z",
     "shell.execute_reply": "2023-12-31T17:13:06.894121Z"
    },
    "papermill": {
     "duration": 0.016118,
     "end_time": "2023-12-31T17:13:06.897375",
     "exception": false,
     "start_time": "2023-12-31T17:13:06.881257",
     "status": "completed"
    },
    "tags": []
   },
   "outputs": [],
   "source": [
    "df = pd.DataFrame({\"PassengerId\": test_ids.values,\n",
    "                   \"Survived\": submission_preds,\n",
    "                  })"
   ]
  },
  {
   "cell_type": "code",
   "execution_count": 10,
   "id": "170e588f",
   "metadata": {
    "execution": {
     "iopub.execute_input": "2023-12-31T17:13:06.910730Z",
     "iopub.status.busy": "2023-12-31T17:13:06.909954Z",
     "iopub.status.idle": "2023-12-31T17:13:06.921854Z",
     "shell.execute_reply": "2023-12-31T17:13:06.919849Z"
    },
    "papermill": {
     "duration": 0.022353,
     "end_time": "2023-12-31T17:13:06.925305",
     "exception": false,
     "start_time": "2023-12-31T17:13:06.902952",
     "status": "completed"
    },
    "tags": []
   },
   "outputs": [],
   "source": [
    "df.to_csv(\"submission.csv\", index = False)"
   ]
  }
 ],
 "metadata": {
  "kaggle": {
   "accelerator": "none",
   "dataSources": [
    {
     "datasetId": 3989487,
     "sourceId": 6946508,
     "sourceType": "datasetVersion"
    },
    {
     "datasetId": 3989536,
     "sourceId": 6946589,
     "sourceType": "datasetVersion"
    }
   ],
   "dockerImageVersionId": 30579,
   "isGpuEnabled": false,
   "isInternetEnabled": false,
   "language": "python",
   "sourceType": "notebook"
  },
  "kernelspec": {
   "display_name": "Python 3",
   "language": "python",
   "name": "python3"
  },
  "language_info": {
   "codemirror_mode": {
    "name": "ipython",
    "version": 3
   },
   "file_extension": ".py",
   "mimetype": "text/x-python",
   "name": "python",
   "nbconvert_exporter": "python",
   "pygments_lexer": "ipython3",
   "version": "3.10.12"
  },
  "papermill": {
   "default_parameters": {},
   "duration": 8.409065,
   "end_time": "2023-12-31T17:13:07.854495",
   "environment_variables": {},
   "exception": null,
   "input_path": "__notebook__.ipynb",
   "output_path": "__notebook__.ipynb",
   "parameters": {},
   "start_time": "2023-12-31T17:12:59.445430",
   "version": "2.4.0"
  }
 },
 "nbformat": 4,
 "nbformat_minor": 5
}
